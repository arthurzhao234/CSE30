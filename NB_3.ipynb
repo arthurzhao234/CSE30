{
  "cells": [
    {
      "cell_type": "markdown",
      "metadata": {
        "id": "view-in-github",
        "colab_type": "text"
      },
      "source": [
        "<a href=\"https://colab.research.google.com/github/arthurzhao234/CSE30/blob/main/NB_3.ipynb\" target=\"_parent\"><img src=\"https://colab.research.google.com/assets/colab-badge.svg\" alt=\"Open In Colab\"/></a>"
      ]
    },
    {
      "cell_type": "markdown",
      "metadata": {
        "id": "MFtDaysDPs4q",
        "notebookgrader": {
          "id": "e8db369a9571d8fd84c00131de8e3797039b43dd",
          "readonly": true
        }
      },
      "source": [
        "# Recursion and Generators\n",
        "\n",
        "*by Dr. Larissa Munishkina, October, 2024*\n"
      ]
    },
    {
      "cell_type": "markdown",
      "metadata": {
        "id": "Yxp1vS6HMP9M",
        "notebookgrader": {
          "id": "e0847ce4d0143cfee6b4af22ecc960c5b2f66d3b",
          "readonly": true
        }
      },
      "source": [
        "##Objectives\n",
        "The purpose of this notebook is to provide you with knowledge of implementing recursive functions and generators.\n",
        "\n",
        "You will practice with creating generators for Fibonacci numbers, prime numbers, permutations (anagrams), combinations, and power set.\n",
        "\n"
      ]
    },
    {
      "cell_type": "markdown",
      "metadata": {
        "id": "L2i9Q7UJhP88",
        "notebookgrader": {
          "id": "acb5ae78874987dec9e24c1dda54cd997df394f8",
          "readonly": true
        }
      },
      "source": [
        "## Recursion"
      ]
    },
    {
      "cell_type": "markdown",
      "metadata": {
        "id": "Zg-QvqADhFYV",
        "notebookgrader": {
          "id": "b4ae581363daafb7de3e84964f4547888349810e",
          "readonly": true
        }
      },
      "source": [
        "Recursion is a process of executing the same procedure (a function) multiple times by calling the procedure from inside of the procedure itself. See  [Recursion (computer science) - Wikipedia](https://en.wikipedia.org/wiki/Recursion_(computer_science)).\n",
        "\n",
        "\n",
        "Let's look at the following example:\n"
      ]
    },
    {
      "cell_type": "code",
      "execution_count": null,
      "metadata": {
        "id": "ZY7niMHqoHSX",
        "notebookgrader": {
          "id": "25df4bcd60439f1994aee589aeb8479f226202ac",
          "is_solution": false,
          "is_tests": false,
          "readonly": true
        }
      },
      "outputs": [],
      "source": [
        "def hello(n):\n",
        "    if n == 1:\n",
        "        print('Hello!')\n",
        "    else:\n",
        "        hello(n - 1)\n",
        "        print('Hello!')\n",
        "\n",
        "if __name__ == '__main__':\n",
        "    hello(3)"
      ]
    },
    {
      "cell_type": "markdown",
      "metadata": {
        "id": "_nhT_nJwoTI-",
        "notebookgrader": {
          "id": "0d96f483712a8aa811cec4d41f67d5ac29df0226",
          "readonly": true
        }
      },
      "source": [
        "In the code above, the `hello` function is a recursive function. When `hello(3)` is called, it generates recursion, a process of calling a recursive function.The `hello` function is a recursive function because it is called within its own function definition.  "
      ]
    },
    {
      "cell_type": "markdown",
      "metadata": {
        "id": "mgZpvgAyFvwi",
        "notebookgrader": {
          "id": "c3f6ba99e9719103a6916f7eb7d5d0531c640b15",
          "readonly": true
        }
      },
      "source": [
        "In mathematics, recursion is used in the following areas:\n",
        "*   proofs by induction\n",
        "*   defining mathematical sets (for example, Mandelbrot set)\n",
        "*   defining sequences (for example, Fibonacci numbers)\n",
        "\n",
        "In computer science, recursion is used in the following areas:\n",
        "*   substituting iteration\n",
        "*   defining recursive data types (recursively defined lists and trees)\n",
        "*   implementing divide-and-conquer algorithms\n",
        "*   dynamical programming\n",
        "*   functional programming\n",
        "*   backtracking\n",
        "*   tree and graph traversal"
      ]
    },
    {
      "cell_type": "markdown",
      "metadata": {
        "id": "ENdEu7ljiMNy",
        "notebookgrader": {
          "id": "d10e08ac3b5b27a780f249884254a98918e34867",
          "readonly": true
        }
      },
      "source": [
        "###Recurrence Relation"
      ]
    },
    {
      "cell_type": "markdown",
      "metadata": {
        "id": "dqn2_bRviJ-v",
        "notebookgrader": {
          "id": "c50fe14b4e8cc8b12aaaaa5e57151f4c5cb4eae6",
          "readonly": true
        }
      },
      "source": [
        "The foundation of recursion is a recurrence relation.\n",
        "\n",
        "A recurrence relation is an equation that  recursively defines a sequence of terms, where each term, except of initial terms, is defined as a function of the preceding terms.\n",
        "\n",
        "Examples of recurrence relations:\n",
        "\n",
        "1. **Arithmetic Progression:**\n",
        "*   $a_n = a_{n-1} + c$\n",
        "*   If $a_0 = 1, c = 1$, then the sequence is $1, 2, 3, 4, ...$\n",
        "2. **Geometric Progression:**\n",
        "*   $a_n = a_{n-1} * c$\n",
        "*   If $a_0 = 1, c = 2$, then the sequence is $1, 2, 4, 8, ...$\n",
        "3. **Factorials:**\n",
        "*   $n! = (n-1)! n$\n",
        "*   $1! = 0!\\times1$, where $0! = 1$\n",
        "*   The sequence is $1, 1, 2, 6, 24, 120, ...$\n",
        "4. **Fibonacci Numbers:**\n",
        "*   $f_n = f_{n-1} + f_{n-2}$\n",
        "*   $f_0 = 1, f_1 = 1$\n",
        "*   The sequence is $1, 1, 2, 3, 5, 8, 13, ...$\n",
        "5. **Binomial Coefficients and the Pascal's Triangle:**\n",
        "*   ${\\binom {n}{k}}={\\binom {n-1}{k-1}}+{\\binom {n-1}{k}}$\n",
        "\n",
        "*   ${\\tbinom {1}{0}}={\\tbinom {1}{1}}=1$\n",
        "\n",
        "*   ${\\tbinom {n}{0}}={\\tbinom {n}{1}}=1$ for all $n > 0$\n",
        "\n",
        "*   The rows in the Pascal's triangle are:\n",
        "```\n",
        "    1st row:  1\n",
        "    2nd row:  1,  1\n",
        "    3rd row:  1,  2,  1\n",
        "    4th row:  1,  3,  3,  1\n",
        "    5th row:  1,  4,  6,  4,  1\n",
        "    6th row:  1,  5, 10, 10,  5,  1\n",
        "       ...\n",
        "```"
      ]
    },
    {
      "cell_type": "markdown",
      "metadata": {
        "id": "nopWmxeInR2p",
        "notebookgrader": {
          "id": "87b904e180ab5f0d75c59616e9113e809c750ec3",
          "readonly": true
        }
      },
      "source": [
        "###Recursion Implementation\n",
        "All recursive functions should have three main components:\n",
        "\n",
        "1. Base Case(s)\n",
        "2. Recursive Call(s)\n",
        "3. Decrementing or dividing the task into subtasks (decrementing argument(s) in the recursive function calls)"
      ]
    },
    {
      "cell_type": "markdown",
      "metadata": {
        "id": "vp9IJAB-lbWj",
        "notebookgrader": {
          "id": "042223055f8edbcb4d9ff01abceb8d15e3dda0ab",
          "readonly": true
        }
      },
      "source": [
        "Recursion defined by recurrence relations is infinite! So, to stop recursion, we use restrictions such as how many times to execute recursive calls. Recursion is made of the base case(s) and recursive step(s). In programming, the base case(s) are used to stop the propagation of recursion.\n",
        "\n",
        "Applying recursion to solving problems is different from the usual iterative approaches. Let's see how we can use recursion and iteration methods to print numbers from 1 to n."
      ]
    },
    {
      "cell_type": "code",
      "execution_count": null,
      "metadata": {
        "colab": {
          "base_uri": "https://localhost:8080/"
        },
        "collapsed": true,
        "id": "bYjQzGs9lgcL",
        "notebookgrader": {
          "id": "20b5b17884f1299443672b19c5ec46f9d31e60b0",
          "is_solution": false,
          "is_tests": false,
          "readonly": true
        },
        "outputId": "3a1e21fe-0f0d-4710-ae5e-538ee1387179"
      },
      "outputs": [
        {
          "output_type": "stream",
          "name": "stdout",
          "text": [
            "1\n",
            "2\n",
            "3\n",
            "4\n",
            "5\n",
            "6\n",
            "7\n",
            "8\n",
            "9\n",
            "10\n"
          ]
        }
      ],
      "source": [
        "#@title Printing numbers iteratively\n",
        "def print_numbers(n):\n",
        "    for i in range(1, n + 1):\n",
        "        print(i)\n",
        "\n",
        "# main\n",
        "print_numbers(10)"
      ]
    },
    {
      "cell_type": "code",
      "execution_count": null,
      "metadata": {
        "colab": {
          "base_uri": "https://localhost:8080/"
        },
        "collapsed": true,
        "id": "4y5RzIS2lqyC",
        "notebookgrader": {
          "id": "e0c75d8d80d82e55abbdbf7da3056f593d661ec9",
          "is_solution": false,
          "is_tests": false,
          "readonly": true
        },
        "outputId": "918ac46d-09bd-4a5f-b9bf-cab61ae562b9"
      },
      "outputs": [
        {
          "output_type": "stream",
          "name": "stdout",
          "text": [
            "1\n",
            "2\n",
            "3\n",
            "4\n",
            "5\n",
            "6\n",
            "7\n",
            "8\n",
            "9\n",
            "10\n"
          ]
        }
      ],
      "source": [
        "#@title Printing numbers recursively\n",
        "def print_numbers(n):\n",
        "    if n == 1:             # the base case\n",
        "        print(n)\n",
        "    else:\n",
        "        print_numbers(n-1) # the recursive call\n",
        "        print(n)\n",
        "\n",
        "# main\n",
        "print_numbers(10)"
      ]
    },
    {
      "cell_type": "markdown",
      "metadata": {
        "id": "OwLedjSWl9iE",
        "notebookgrader": {
          "id": "d29435d854bd3786a69e07e6391a3d5645271bd8",
          "readonly": true
        }
      },
      "source": [
        "To design a recursive function, first we need to find out what the base case is. Since we print numbers from $1$ to $n$ and our input is $n$, we deduce that the base case is printing $1$. Then, we add a recursive step that is made of two statements: a recursive call and a print statement (a print function call). If we want to print the numbers in the reverse order, we can simply exchange the recursive call `print_numbers(n-1)` with `print(n)`."
      ]
    },
    {
      "cell_type": "code",
      "execution_count": null,
      "metadata": {
        "colab": {
          "base_uri": "https://localhost:8080/"
        },
        "collapsed": true,
        "id": "ZuPnZKgmm8bQ",
        "notebookgrader": {
          "id": "b8d08efd51a5d9acdd1d839ec84de0a851788f5a",
          "is_solution": false,
          "is_tests": false,
          "readonly": true
        },
        "outputId": "334d3b00-1629-406c-8430-ff2204a8eefe"
      },
      "outputs": [
        {
          "output_type": "stream",
          "name": "stdout",
          "text": [
            "10\n",
            "9\n",
            "8\n",
            "7\n",
            "6\n",
            "5\n",
            "4\n",
            "3\n",
            "2\n",
            "1\n"
          ]
        }
      ],
      "source": [
        "# print numbers recursively\n",
        "def print_numbers(n):\n",
        "    if n == 1:              # the base case\n",
        "        print(n)\n",
        "    else:                   # the recursive step\n",
        "        print(n)\n",
        "        print_numbers(n-1)  # a recursive call\n",
        "\n",
        "# main\n",
        "print_numbers(10)"
      ]
    },
    {
      "cell_type": "markdown",
      "metadata": {
        "id": "H3JWeBglgiqq",
        "notebookgrader": {
          "id": "8e3c4f4cb7319a3c12435597befe5a0526b1e226",
          "readonly": true
        }
      },
      "source": [
        "We can unravel recursion by following what code is executed step-by-step. We can do it by substituting the function recursive calls with the code in the function definition. Please look at the following code of the modified `print_numbers` recursive function. Four recursive function calls are substituted with the function code. In doing so, we created a nested structure of recursion, where next recursive call is placed inside of the previous one."
      ]
    },
    {
      "cell_type": "code",
      "execution_count": null,
      "metadata": {
        "colab": {
          "base_uri": "https://localhost:8080/"
        },
        "collapsed": true,
        "id": "cE2feDXqG1zJ",
        "notebookgrader": {
          "id": "bba912c4318f5912b95d7262a6ba8cdb578987f2",
          "is_solution": false,
          "is_tests": false,
          "readonly": true
        },
        "outputId": "d51b7339-65a3-400d-cfb4-a930c6110589"
      },
      "outputs": [
        {
          "output_type": "stream",
          "name": "stdout",
          "text": [
            "3\n",
            "4\n",
            "5\n"
          ]
        }
      ],
      "source": [
        "#@title Unraveling recursion\n",
        "# print numbers recursively with the first three levels of deepth are unraveled!\n",
        "def print_numbers(n):\n",
        "    if n == 1:\n",
        "        print(n)                # print is skipped\n",
        "    else:                       # first recursive call\n",
        "        if (n - 1) == 1:\n",
        "            print(n - 1)            # print is skipped\n",
        "        else:                       # second recursive call\n",
        "            if (n - 2) == 1:\n",
        "                print(n - 2)            # print is skipped\n",
        "            else:                       # third recursive call\n",
        "                if (n - 3) == 1:            # the base case\n",
        "                    print(n - 3)            # fourth recursion level\n",
        "        print(n - 2)            # third recursion level\n",
        "        print(n - 1)            # second recursion level\n",
        "        print(n)                # first recursion level\n",
        "\n",
        "# main\n",
        "print_numbers(5)"
      ]
    },
    {
      "cell_type": "markdown",
      "metadata": {
        "id": "mPXmdU_qX3nc",
        "notebookgrader": {
          "id": "aeeff02c721e296c7bc8034893fabdaab96c19f7",
          "readonly": true
        }
      },
      "source": [
        "##Generators and Iterators"
      ]
    },
    {
      "cell_type": "markdown",
      "metadata": {
        "id": "jQNNyi7jX7C-",
        "notebookgrader": {
          "id": "f68fbd6ccbebc45166f893994d8d59b9b031b918",
          "readonly": true
        }
      },
      "source": [
        "A generator is a function that has a `yield` statement. A `yield` statement works similar to a `return` statement but the function state is not erased from memory, so the code after `yield` can be executed!   \n",
        "\n",
        "First, compare the behavior of the return and yield statements in the following code."
      ]
    },
    {
      "cell_type": "code",
      "execution_count": null,
      "metadata": {
        "colab": {
          "base_uri": "https://localhost:8080/"
        },
        "id": "uCSuDkOhZasH",
        "notebookgrader": {
          "id": "2d3484a9eb0b6396a76ea917446cd3cbcaf96839",
          "is_solution": false,
          "is_tests": false,
          "readonly": true
        },
        "outputId": "8aa0c369-8dae-4839-bab9-735778d64725"
      },
      "outputs": [
        {
          "output_type": "execute_result",
          "data": {
            "text/plain": [
              "0"
            ]
          },
          "metadata": {},
          "execution_count": 9
        }
      ],
      "source": [
        "def foo():\n",
        "    var = 0\n",
        "    for i in range(3):\n",
        "        return var\n",
        "        var += 1\n",
        "foo()"
      ]
    },
    {
      "cell_type": "markdown",
      "metadata": {
        "id": "yoX5wSYHf6XV",
        "notebookgrader": {
          "id": "621c4fb536b38afa2768407f3058476d7ea8d7ce",
          "readonly": true
        }
      },
      "source": [
        "The return statement works like a `break` statement - the code after it is never executed!\n",
        "\n",
        "Look what happens if we substitute `return` to `yield`:"
      ]
    },
    {
      "cell_type": "code",
      "execution_count": null,
      "metadata": {
        "colab": {
          "base_uri": "https://localhost:8080/"
        },
        "id": "k9jvwAF6aNJ9",
        "notebookgrader": {
          "id": "35d596693d368260afe161f398f7d313d0418526",
          "is_solution": false,
          "is_tests": false,
          "readonly": true
        },
        "outputId": "3bd1187d-b4e7-44cf-f17b-9b7b1875462e"
      },
      "outputs": [
        {
          "output_type": "execute_result",
          "data": {
            "text/plain": [
              "<generator object fun at 0x7ff5cfa660c0>"
            ]
          },
          "metadata": {},
          "execution_count": 10
        }
      ],
      "source": [
        "def fun():\n",
        "    var = 0\n",
        "    for i in range(3):\n",
        "        yield var\n",
        "        var += 1\n",
        "fun()"
      ]
    },
    {
      "cell_type": "markdown",
      "metadata": {
        "id": "BAHfr-iVcUm7",
        "notebookgrader": {
          "id": "b8bfac672c3a93afafad578b343b11cfa81370a5",
          "readonly": true
        }
      },
      "source": [
        "You may note that when we call the `fun` function, it does not immediately execute the generator code; instead, it returns an **iterator**. We can then run the iterator using the `next` function.\n",
        "\n",
        "When we call `next`, the code up to and including the first `yield` statement in the generator is executed. Each subsequent call to `next` resumes execution just after the previous `yield` and continues through to and including the next `yield` statement."
      ]
    },
    {
      "cell_type": "code",
      "execution_count": null,
      "metadata": {
        "id": "ZXeG3jljahAg",
        "notebookgrader": {
          "id": "1bc0657775de2a437fedc9b51f7c7f26632f3c9a",
          "is_solution": false,
          "is_tests": false,
          "readonly": true
        }
      },
      "outputs": [],
      "source": [
        "iter_fun = fun()\n",
        "print(next(iter_fun))\n",
        "print(next(iter_fun))"
      ]
    },
    {
      "cell_type": "markdown",
      "metadata": {
        "id": "zoBtXcFtfAdE",
        "notebookgrader": {
          "id": "b2d3b153805bee700f2f522045adeff6e6628445",
          "readonly": true
        }
      },
      "source": [
        "Here is another example of a generator. This generator has only two `yield` statements."
      ]
    },
    {
      "cell_type": "code",
      "execution_count": null,
      "metadata": {
        "colab": {
          "base_uri": "https://localhost:8080/"
        },
        "collapsed": true,
        "id": "POChqP3Wewft",
        "notebookgrader": {
          "id": "711a53e4564b85c18098b636eb03c7130c6c6250",
          "is_solution": false,
          "is_tests": false,
          "readonly": true
        },
        "outputId": "878b4021-ada5-45c6-e992-e0e4b6738006"
      },
      "outputs": [
        {
          "output_type": "stream",
          "name": "stdout",
          "text": [
            "<class 'generator'>\n",
            "The first string\n",
            "The second string\n"
          ]
        }
      ],
      "source": [
        "#@title A Line Generator\n",
        "def line_generator():\n",
        "    s = \"The first string\"\n",
        "    yield s\n",
        "    s = \"The second string\"\n",
        "    yield s\n",
        "\n",
        "g1 = line_generator()\n",
        "print(type(g1))\n",
        "print(next(g1))\n",
        "print(next(g1))\n"
      ]
    },
    {
      "cell_type": "markdown",
      "metadata": {
        "id": "mLJAuv7SrHkm",
        "notebookgrader": {
          "id": "2e86888e53bb60b386433c687030fc2cb989cd42",
          "readonly": true
        }
      },
      "source": [
        "We can create an infinite generator using a `while` loop. The following generator code produces powers of numbers. Since it is based on an infinite `while True` loop, we need to be careful and limit the iteration as shown in the examples.\n",
        "\n",
        "Also note that instead of calling the `next` function directly, we typically use a `for` loop with the `in` construct. In Python, the `next` function is called implicitly during each iteration of the loop.\""
      ]
    },
    {
      "cell_type": "code",
      "execution_count": null,
      "metadata": {
        "colab": {
          "base_uri": "https://localhost:8080/"
        },
        "id": "pWlnOB28oPr0",
        "notebookgrader": {
          "id": "788777003fc2b18d335610dc869e584ec9236f6c",
          "is_solution": false,
          "is_tests": false,
          "readonly": true
        },
        "outputId": "f30b6e0f-d04d-40a6-98ee-f0e1ed7459d4"
      },
      "outputs": [
        {
          "output_type": "stream",
          "name": "stdout",
          "text": [
            "This is a sequence of powers of 2 that are less than 1000:\n",
            "1\n",
            "2\n",
            "4\n",
            "8\n",
            "16\n",
            "32\n",
            "64\n",
            "128\n",
            "256\n",
            "512\n",
            "\n",
            "This is a sequence of powers of 3 that are more than 100 and less than 1000:\n",
            "243\n",
            "729\n"
          ]
        }
      ],
      "source": [
        "#@title A Generator of Powers of Numbers\n",
        "def power_numbers(k):\n",
        "    i = 1\n",
        "    while True:\n",
        "        yield i\n",
        "        i *= k\n",
        "\n",
        "print('This is a sequence of powers of 2 that are less than 1000:')\n",
        "for n in power_numbers(2):\n",
        "    if n > 1000:\n",
        "        break\n",
        "    print(n)\n",
        "\n",
        "print('\\nThis is a sequence of powers of 3 that are more than 100 and less than 1000:')\n",
        "for n in power_numbers(3):\n",
        "    if n > 1000:\n",
        "        break\n",
        "    elif n >= 100:\n",
        "        print(n)"
      ]
    },
    {
      "cell_type": "markdown",
      "metadata": {
        "id": "TpbdQUE-LVD7",
        "notebookgrader": {
          "id": "4043465b60714f1f8a48015a2a22ba12ffaed51e",
          "readonly": true
        }
      },
      "source": [
        "The following content is adapted from Prof. Luca de Alfaro NBs Recursion and Generators.\n",
        "\n",
        "Copyright Luca de Alfaro, 2019-20. License: CC-BY-NC-ND."
      ]
    },
    {
      "cell_type": "markdown",
      "metadata": {
        "id": "OVGJuGN3igyk",
        "notebookgrader": {
          "id": "9bce76ce19ec71b43affe933ec07c95bd17950c1",
          "readonly": true
        }
      },
      "source": [
        "##Exercises"
      ]
    },
    {
      "cell_type": "markdown",
      "metadata": {
        "id": "M7ablvWckhaC",
        "notebookgrader": {
          "id": "d8f232a772324b05ceeb63eac81f14f53276c460",
          "readonly": true
        }
      },
      "source": [
        "###Question 1: Fibonacci Numbers"
      ]
    },
    {
      "cell_type": "markdown",
      "metadata": {
        "id": "WCZN1sisuXMu",
        "notebookgrader": {
          "id": "cd070d19d020370e3203e9d9ad7c070be7b00733",
          "readonly": true
        }
      },
      "source": [
        "In this exercise, you need to build a generator that returns an iterator of the [Fibonacci sequence](https://en.wikipedia.org/wiki/Fibonacci_number).\n",
        "\n",
        "A recursive function that produces Fibonacci numbers is provided to you. You need to convert it into iteration and use a yield statement to build a generator."
      ]
    },
    {
      "cell_type": "code",
      "execution_count": 12,
      "metadata": {
        "colab": {
          "base_uri": "https://localhost:8080/"
        },
        "id": "dCck1B1_zmIl",
        "notebookgrader": {
          "id": "911b6617cfd87d87c67237978cc3b421518aab8c",
          "is_solution": false,
          "is_tests": false,
          "readonly": true
        },
        "outputId": "6f7530f4-ba73-45f7-b6ce-84365e42122a"
      },
      "outputs": [
        {
          "output_type": "stream",
          "name": "stdout",
          "text": [
            "0\n",
            "1\n",
            "1\n",
            "2\n",
            "3\n",
            "5\n",
            "8\n",
            "13\n",
            "21\n",
            "34\n"
          ]
        }
      ],
      "source": [
        "def fibonacci(n):\n",
        "    if n <= 1:\n",
        "        return n\n",
        "    else:\n",
        "        return fibonacci(n - 1) + fibonacci(n - 2)\n",
        "\n",
        "for i in range(10):\n",
        "    print(fibonacci(i))"
      ]
    },
    {
      "cell_type": "code",
      "execution_count": 13,
      "metadata": {
        "id": "xY951PO7ZBY6",
        "notebookgrader": {
          "id": "75d54c43864cd6e46ed6a93b76625f597c7f74d4",
          "is_solution": true,
          "is_tests": false,
          "readonly": false
        }
      },
      "outputs": [],
      "source": [
        "#@title A Fibonacci number generator\n",
        "\n",
        "def fibonacci_generator():\n",
        "    \"\"\"Generates all Fibonacci numbers.\"\"\"\n",
        "    f0, f1 = 0, 1\n",
        "    while True:\n",
        "      yield f0\n",
        "      f0,f1=f1,f0+f1\n",
        "    ### YOUR SOLUTION HERE"
      ]
    },
    {
      "cell_type": "code",
      "execution_count": 14,
      "metadata": {
        "cellView": "form",
        "colab": {
          "base_uri": "https://localhost:8080/"
        },
        "collapsed": true,
        "id": "r2utapGUbyn1",
        "notebookgrader": {
          "id": "f3ea9d99daf3ca1e8adb480b6e9afcf3668b4626",
          "is_solution": false,
          "is_tests": true,
          "readonly": true,
          "test_points": 30
        },
        "outputId": "34a78cb1-3461-4508-ca30-87f7a5df8d38"
      },
      "outputs": [
        {
          "output_type": "stream",
          "name": "stdout",
          "text": [
            "[0, 1, 1]\n",
            "[0, 1, 1]\n",
            "[0]\n",
            "[0]\n",
            "[0, 1, 1, 2, 3, 5, 8, 13, 21, 34, 55]\n",
            "[0, 1, 1, 2, 3, 5, 8, 13, 21, 34, 55]\n",
            "[0, 1, 1, 2, 3, 5, 8]\n",
            "[0, 1, 1, 2, 3, 5, 8]\n",
            "[0, 1, 1, 2, 3, 5, 8, 13, 21, 34]\n",
            "[0, 1, 1, 2, 3, 5, 8, 13, 21, 34]\n"
          ]
        }
      ],
      "source": [
        "# Tests 30 points.\n",
        "\n",
        "import random\n",
        "\n",
        "for k in range(5):\n",
        "    n = random.randint(0, 10)\n",
        "    f1 = [ fibonacci(i) for i in range(n + 1) ]\n",
        "    count, f2 = 0, []\n",
        "    for i in fibonacci_generator():\n",
        "        f2.append(i)\n",
        "        if count >= n:\n",
        "            break\n",
        "        count += 1\n",
        "    print(f1)\n",
        "    print(f2)\n",
        "    assert f1 == f2"
      ]
    },
    {
      "cell_type": "markdown",
      "metadata": {
        "id": "afd4QqRd8d3g",
        "notebookgrader": {
          "id": "7e821eedc0b0f5cd84434fc49a881ae1099798bb",
          "readonly": true
        }
      },
      "source": [
        "###Question 2: Prime Numbers"
      ]
    },
    {
      "cell_type": "markdown",
      "metadata": {
        "id": "83VsEmBN8x-0",
        "notebookgrader": {
          "id": "32ec72deec0211d3370b5f50cc03dce9ed86abf9",
          "readonly": true
        }
      },
      "source": [
        "In this exercise, you need to build a generator that returns all prime numbers. You need to iterate over all positive integers and test each one of them if it is prime, then `yield` it."
      ]
    },
    {
      "cell_type": "code",
      "execution_count": 15,
      "metadata": {
        "id": "KztSVS_p8mGW",
        "notebookgrader": {
          "id": "470f6a6eebee0bd1112349363cce7b026b69ccef",
          "is_solution": true,
          "is_tests": false,
          "readonly": false
        }
      },
      "outputs": [],
      "source": [
        "#@title A prime number generator\n",
        "\n",
        "# My solution is simple and not particularly optimized,\n",
        "# and it is 12 lines long.\n",
        "\n",
        "def prime_number_generator():\n",
        "    '''Generates all prime numbers.'''\n",
        "    number, primes_list = 2, []\n",
        "    for i in range (number-1):\n",
        "      if number %(i+1)==0:\n",
        "        number+=1\n",
        "        break\n",
        "      elif number==i+1:\n",
        "        primes_list.append(number)\n",
        "        yield number\n",
        "        number+=1\n",
        "\n",
        "\n",
        "    ### YOUR SOLUTION HERE"
      ]
    },
    {
      "cell_type": "markdown",
      "metadata": {
        "id": "2bK1vtc0usN1",
        "notebookgrader": {
          "id": "3d42d65c58e4448f880dd7bc6fe6f9173b42c0a3",
          "readonly": true
        }
      },
      "source": [
        "Let's test the generator."
      ]
    },
    {
      "cell_type": "code",
      "execution_count": 16,
      "metadata": {
        "collapsed": true,
        "id": "sw4wMyaKePGr",
        "notebookgrader": {
          "id": "b25d8ac70fb3cd7241b31c3b0f5afc5b020df591",
          "is_solution": false,
          "is_tests": false,
          "readonly": true
        }
      },
      "outputs": [],
      "source": [
        "i = 0\n",
        "for n in prime_number_generator():\n",
        "    print(n)\n",
        "    i += 1\n",
        "    if i == 10:\n",
        "        break"
      ]
    },
    {
      "cell_type": "code",
      "execution_count": 17,
      "metadata": {
        "cellView": "form",
        "id": "uNfE7Gv8fW5D",
        "notebookgrader": {
          "id": "cdf4876708e61a016c4e0d90f34f9d97f621bce4",
          "is_solution": false,
          "is_tests": true,
          "readonly": true,
          "test_points": 35
        }
      },
      "outputs": [],
      "source": [
        "# Tests 35 points.\n",
        "\n",
        "for n in prime_number_generator():\n",
        "    if n == 33:\n",
        "        raise Exception()\n",
        "    elif n > 37:\n",
        "        break\n"
      ]
    },
    {
      "cell_type": "markdown",
      "metadata": {
        "id": "EoVKUS45nrN9",
        "notebookgrader": {
          "id": "da28784a8df2e833d186ae0b8e6a941e895ec8a4",
          "readonly": true
        }
      },
      "source": [
        "###Permutations"
      ]
    },
    {
      "cell_type": "markdown",
      "metadata": {
        "id": "FaUDYr0Rnmks",
        "notebookgrader": {
          "id": "58f41a8936857929c412b61c9c9b63f22df13b72",
          "readonly": true
        }
      },
      "source": [
        "A permutation is an arrangement of items in a certain order. For a set of $n$ items, there are $P(n) = n!$ permutations.\n",
        "*   For example, for a set of 3 elements {1, 2, 3}, there are 6 permutations:\n",
        "```\n",
        "        (1, 2, 3)\n",
        "        (1, 3, 2)\n",
        "        (2, 1, 3)\n",
        "        (2, 3, 1)\n",
        "        (3, 1, 2)\n",
        "        (3, 2, 1)\n",
        "```\n",
        "\n",
        "If not all elements from the set are permuted, then the number of partial permutations is $P(n, k) = \\frac{n!}{(n-k)!}$, where $k$ is the number of permuted elements.\n",
        "*   For example, for a set of 3 elements {1, 2, 3}, where 2 elements can be permuted, there are  $P(3, 2) = \\frac{3!}{(3-2)!}=6$ permutations:\n",
        "```\n",
        "        (1, 2)\n",
        "        (1, 3)\n",
        "        (2, 1)\n",
        "        (2, 3)\n",
        "        (3, 1)\n",
        "        (3, 2)\n",
        "```\n",
        "\n",
        "If elements are allowed to be repeated, then $P(n) = n^k$, where $k$ is a number of selected elements and $n$ is the number of elements in a set.\n",
        "*   For example, for a set of 3 elements {1, 2, 3}, where 2 elements are selected, there are 9 permutations:\n",
        "\n",
        "```\n",
        "        (1, 1)\n",
        "        (1, 2)\n",
        "        (1, 3)\n",
        "        (2, 1)\n",
        "        (2, 2)\n",
        "        (2, 3)\n",
        "        (3, 1)\n",
        "        (3, 2)\n",
        "        (3, 3)\n",
        "```"
      ]
    },
    {
      "cell_type": "markdown",
      "metadata": {
        "id": "ztBK7CCdb70X",
        "notebookgrader": {
          "id": "44d3ceab62d55b94049d1defc54b7a7373e04490",
          "readonly": true
        }
      },
      "source": [
        "The procedure of calculating permutations is elaborate. In this notebook, we describe how to calculate regular permutations without selection or repetition. For example, if we have a set of 3 elements {1, 2, 3}, then the number of permutations is $P(3) = 3! = 6$.\n",
        "\n",
        "How can we solve the problem of finding all permutations? The formula of calculating permutations provides us with a clue. To calculate the number of permutations of 3 elements, we can calculate the number of permutations of 2 elements and multiply it by 3:\n",
        "*   $P(3)=P(2)\\times3=2!\\times3$\n",
        "\n",
        "To calculate the number of permutations of 4 elements, we can calculate the number of permutations of 3 elements and multiply it by 4.\n",
        "*   $P(4)=P(3)\\times4=3!\\times4$\n",
        "\n",
        "To generalize the pattern, we can write the following formula:\n",
        "*   $P(n)=P(n-1)\\times{n}$\n",
        "\n",
        "So, to find permutations of $n$ elements, we need to find permutations of $n-1$ elements, which is a perfect task for recursion.\n",
        "\n",
        "To implement recursion, we need to think about the termination of recursion, the base cases. In recursion of finding permutations, the base case is to find a permutation of 1 element, which is the element itself.\n",
        "\n",
        "The recursive step includes finding the permutations of $n-1$ elements and generating  $P(n-1)\\times{n}$ permutations. The process of generating $P(n-1)\\times{n}$ permutations can be done iteratively. During this process, we need to insert the $n$th element at different places in the $(n-1)$th permutation. Since there are $(n-1)$ elements in the $(n-1)$th permutation, there are $n$ such places.\n",
        "\n",
        "Let's check this for permutations of 3 elements. First, we find the permutations of 2 elements:\n",
        "```\n",
        "    (1, 2)\n",
        "    (2, 1)\n",
        "```\n",
        "Next, we insert 3 into 3 different places: in front of the first element, between two elements, and behind the last element.\n",
        "\n",
        "If the permutation $P(2)$ is (1, 2), then we have the following $P(3)$ permutations:\n",
        "```\n",
        "    (3, 1, 2)\n",
        "    (1, 3, 2)\n",
        "    (1, 2, 3)\n",
        "```\n",
        "We need to perform the same procedure for the next $P(2)$ permutation (2, 1):\n",
        "```\n",
        "    (3, 2, 1)\n",
        "    (2, 3, 1)\n",
        "    (2, 1, 3)\n",
        "```\n",
        "Thus, there are 3 new $P(3)$ permutations for each given $P(2)$ permutation. Since there are 2 $P(2)$ permutations, the number of $P(3)$ permutations is 6."
      ]
    },
    {
      "cell_type": "code",
      "execution_count": 18,
      "metadata": {
        "collapsed": true,
        "id": "Xtu9wrvKoiNO",
        "notebookgrader": {
          "id": "a3e7db8e7fe6858724bcaa7e685006263c4d4a43",
          "is_solution": false,
          "is_tests": false,
          "readonly": true
        }
      },
      "outputs": [],
      "source": [
        "#@title A generator of all permutations\n",
        "def all_perms(elements):\n",
        "    '''Returns an iterator of all permutations'''\n",
        "    if len(elements) <= 1:\n",
        "        yield elements\n",
        "    else:\n",
        "        for perm in all_perms(elements[1:]):\n",
        "            for i in range(len(elements)):\n",
        "                yield perm[:i] + elements[0:1] + perm[i:]\n"
      ]
    },
    {
      "cell_type": "code",
      "execution_count": 19,
      "metadata": {
        "collapsed": true,
        "id": "keSPlrwc-tv_",
        "notebookgrader": {
          "id": "24fe4c31d4ca4e2a177c03535063a61e06d51738",
          "is_solution": false,
          "is_tests": false,
          "readonly": true
        },
        "colab": {
          "base_uri": "https://localhost:8080/"
        },
        "outputId": "93467efc-6289-4a78-a69a-502b2b3c56d6"
      },
      "outputs": [
        {
          "output_type": "stream",
          "name": "stdout",
          "text": [
            "1 [1, 2, 3, 4]\n",
            "2 [2, 1, 3, 4]\n",
            "3 [2, 3, 1, 4]\n",
            "4 [2, 3, 4, 1]\n",
            "5 [1, 3, 2, 4]\n",
            "6 [3, 1, 2, 4]\n",
            "7 [3, 2, 1, 4]\n",
            "8 [3, 2, 4, 1]\n",
            "9 [1, 3, 4, 2]\n",
            "10 [3, 1, 4, 2]\n",
            "11 [3, 4, 1, 2]\n",
            "12 [3, 4, 2, 1]\n",
            "13 [1, 2, 4, 3]\n",
            "14 [2, 1, 4, 3]\n",
            "15 [2, 4, 1, 3]\n",
            "16 [2, 4, 3, 1]\n",
            "17 [1, 4, 2, 3]\n",
            "18 [4, 1, 2, 3]\n",
            "19 [4, 2, 1, 3]\n",
            "20 [4, 2, 3, 1]\n",
            "21 [1, 4, 3, 2]\n",
            "22 [4, 1, 3, 2]\n",
            "23 [4, 3, 1, 2]\n",
            "24 [4, 3, 2, 1]\n"
          ]
        }
      ],
      "source": [
        "data = [1,2,3,4]\n",
        "for i, p in enumerate(all_perms(data), 1): # should be 4! = 24 permutations\n",
        "    print(i, p)"
      ]
    },
    {
      "cell_type": "markdown",
      "metadata": {
        "id": "XsKK-7pFaXK8",
        "notebookgrader": {
          "id": "d0ed19e4254347891d8bfd90f8cdf4dddfba1918",
          "readonly": true
        }
      },
      "source": [
        "As usual in mathematics and programming, the same task can be solved in different ways. Here is another approach to find permutations that is based on sequential deletion of elements from a list, then finding permutations of reduced list, and, finally, joining the lists back.\n",
        "\n",
        "The following is the formal description of the procedure.\n",
        "\n",
        "For a list $l$, let $P(l)$ be its set of permutations.  For a set of lists $C$, and for a single list $s$, denote with\n",
        "\n",
        "$$\n",
        "s +^* C = \\{s + c \\mid c \\in C \\}\n",
        "$$\n",
        "\n",
        "the set obtaining by the concatenation of $s$ with every element of $C$.\n",
        "For elements $x_1, \\ldots, x_n$, we have:\n",
        "\n",
        "$$\n",
        "\\begin{align*}\n",
        "P([x_1, \\ldots, x_n]) = \\{ \\, & [x_1] +^* P([x_2, \\ldots, x_n]),\\\\\n",
        "& [x_2] +^* P([x_1, x_3, \\ldots, x_n]), \\\\\n",
        "& \\cdots \\\\\n",
        "& [x_k] +^* P([x_1, \\ldots, x_{k-1}, x_{k+1}, \\ldots, x_n]),\\\\\n",
        "& \\ldots \\\\\n",
        "& [x_n] +^* P([x_1, \\ldots, x_{n-1}]) \\, \\} \\; .\n",
        "\\end{align*}\n",
        "$$\n",
        "\n",
        "In other words, given a list $l$, we can iterate on it, choosing in turn an element $x$.  We can then compute the permutations of $l$ by concatenating $x$ with the permutations of the list $l'$ that results from removing $x$ from $l$."
      ]
    },
    {
      "cell_type": "code",
      "execution_count": 20,
      "metadata": {
        "id": "AUf5iSK1c-VG",
        "notebookgrader": {
          "id": "f77d0b006aa68a4e145499bd97cdaf043270fbe7",
          "is_solution": false,
          "is_tests": false,
          "readonly": true
        }
      },
      "outputs": [],
      "source": [
        "#@title A different version of a permutation generator\n",
        "def permute(elements):\n",
        "    '''Yields all the permutations of iterable, one by one.'''\n",
        "    if len(elements) == 0:\n",
        "        yield []\n",
        "    else:\n",
        "        for i, x in enumerate(elements):\n",
        "            # We separate elements into x and the remainder that\n",
        "            # consists of all elements minus x.\n",
        "            remainder = elements[:i] + elements[i+1:]\n",
        "            for p in permute(remainder):\n",
        "                yield [x] + p"
      ]
    },
    {
      "cell_type": "code",
      "execution_count": 21,
      "metadata": {
        "collapsed": true,
        "id": "UKuF4ENYeYYl",
        "notebookgrader": {
          "id": "8d4211d91cdc0915d48181a7fc05bbe81fd73a6a",
          "is_solution": false,
          "is_tests": false,
          "readonly": true
        },
        "colab": {
          "base_uri": "https://localhost:8080/"
        },
        "outputId": "17d47d38-b4be-48f3-cae2-fe436a08ea57"
      },
      "outputs": [
        {
          "output_type": "stream",
          "name": "stdout",
          "text": [
            "[1, 2, 3]\n",
            "[1, 3, 2]\n",
            "[2, 1, 3]\n",
            "[2, 3, 1]\n",
            "[3, 1, 2]\n",
            "[3, 2, 1]\n"
          ]
        },
        {
          "output_type": "execute_result",
          "data": {
            "text/plain": [
              "True"
            ]
          },
          "metadata": {},
          "execution_count": 21
        }
      ],
      "source": [
        "list_ = [1, 2, 3]\n",
        "for p in permute(list_):\n",
        "    print(p)\n",
        "\n",
        "len(list(permute([1, 2, 3, 4]))) == 24"
      ]
    },
    {
      "cell_type": "markdown",
      "metadata": {
        "id": "jfwahWgje511",
        "notebookgrader": {
          "id": "0a1d4065c7ade87b8c8a7f1f0af3be8d7d8cf440",
          "readonly": true
        }
      },
      "source": [
        "###Question 3: Anagrams"
      ]
    },
    {
      "cell_type": "markdown",
      "metadata": {
        "id": "5wRZb60JMguH",
        "notebookgrader": {
          "id": "7c4a6680a1d4f9f05a3f92c40de238851cb5b365",
          "readonly": true
        }
      },
      "source": [
        "An anagram is a word or phrase formed by rearranging the letters in the original word or phrase, using all the letters exactly once.\n",
        "\n",
        "For example, in Dan Brown's best-selling novel *The Da Vinci Code* and the film based on the novel, there are two anagrams:\n",
        "*   *O, draconian devil*'\n",
        "*   *Oh, lame saint*  \n",
        "\n",
        "The first anagram encodes the phrase *Leonardo da Vinci*, and the second anagram encodes the phrase *The Mona Lisa*.\n",
        "\n",
        "If you read or watched a movie about Harry Porter, you know that *Tom Marvolo Riddle* is an anagram for *I am Lord Voldemort*.\n",
        "\n",
        "You can read more about anagrams [on Wikipedia](https://en.wikipedia.org/wiki/Anagram#Methods_of_construction).\n",
        "\n"
      ]
    },
    {
      "cell_type": "markdown",
      "metadata": {
        "id": "Hw_0bJegUv2u",
        "notebookgrader": {
          "id": "922eae2b2f2d9897c7d9d6a5eabb1bd00065ebc9",
          "readonly": true
        }
      },
      "source": [
        "Your next task is to create your own anagram generator. It can be built on permutations of letters and selecting if a generated word is a dictionary word."
      ]
    },
    {
      "cell_type": "markdown",
      "metadata": {
        "id": "r8s0UvtWfA4i",
        "notebookgrader": {
          "id": "ff4c892cff241cc0ce95026cf5d9b603e90fa2a7",
          "readonly": true
        }
      },
      "source": [
        "First, we need to create a dictionary of words. In a real program, you may use a dictionary of half a million words. Some dictionaries can be imported from `nltk` (Natural Language Tool Kit) library.\n",
        "\n",
        "Due to the notebook grader website limitations, we create a short dictionary of a few words that we use for testing.   "
      ]
    },
    {
      "cell_type": "code",
      "execution_count": 22,
      "metadata": {
        "id": "AWcArieVPchz",
        "notebookgrader": {
          "id": "1f0f3dabf8e8c2fac63956fdb2fb44be595c3b02",
          "is_solution": false,
          "is_tests": false,
          "readonly": true
        }
      },
      "outputs": [],
      "source": [
        "words = ['people', 'fork', 'fine', 'make', 'demo', 'mode', 'dome', 'art', 'rat', 'cat', 'act', 'dog', 'god', 'tar']"
      ]
    },
    {
      "cell_type": "markdown",
      "metadata": {
        "id": "E35abspPURqT",
        "notebookgrader": {
          "id": "dcd6a6400fc57e05371c5820995512db922fab7c",
          "readonly": true
        }
      },
      "source": [
        "You can check if a word in the dictionary in the following way."
      ]
    },
    {
      "cell_type": "code",
      "execution_count": 23,
      "metadata": {
        "id": "niZhBWvzeEkP",
        "notebookgrader": {
          "id": "4213726259783f55fca7eefcf1e0465cb50adae0",
          "is_solution": false,
          "is_tests": false,
          "readonly": true
        },
        "colab": {
          "base_uri": "https://localhost:8080/"
        },
        "outputId": "f099f7f9-10bb-4bdd-bdea-b14338496489"
      },
      "outputs": [
        {
          "output_type": "stream",
          "name": "stdout",
          "text": [
            "True\n",
            "True\n",
            "True\n",
            "True\n",
            "False\n",
            "False\n"
          ]
        }
      ],
      "source": [
        "print('people' in words)\n",
        "print('fork' in words)\n",
        "print('fine' in words)\n",
        "print('make' in words)\n",
        "print('ec' in words)\n",
        "print('do' in words)"
      ]
    },
    {
      "cell_type": "markdown",
      "metadata": {
        "id": "qyEc_g6g3ZMD",
        "notebookgrader": {
          "id": "de36aae4fa29bb525b12e187210043b3cc6b5c60",
          "readonly": true
        }
      },
      "source": [
        "Write your code for an anagram generator below. Your generator should only produce anagrams that are dictionary words, not phrases.\n",
        "\n",
        "In the `anagrams` function, the `letters` parameter refers to the letters in the word, and the `word_length` parameter refers to the length of the original word.\n",
        "\n",
        "You can use the `word_length` parameter to check whether the final combination of letters includes all the original letters and forms a valid dictionary word (i.e, included in the `words` dictionary).\n",
        "\n",
        "**HINTS**\n",
        "\n",
        "* \"Create the `anagrams` function using the same recursive approach as the `all_perms` or `permute` functions use to generate permutations.\n",
        "* In the recursive step, check whether a permutation contains all the letters -- that is, whether its length equals `word_length`. If so, verify that it exists in the dictionary."
      ]
    },
    {
      "cell_type": "code",
      "execution_count": 24,
      "metadata": {
        "id": "k39GT5oJIshh",
        "notebookgrader": {
          "id": "c72095fad80a6df215c69aa52dd1b551988c3ab4",
          "is_solution": false,
          "is_tests": false,
          "readonly": true
        }
      },
      "outputs": [],
      "source": [
        "# Run this code before using the anagrams function\n",
        "words = ['people', 'fork', 'fine', 'make', 'demo', 'mode', 'dome', 'art', 'rat', 'cat', 'act', 'dog', 'god', 'tar']"
      ]
    },
    {
      "cell_type": "code",
      "execution_count": 25,
      "metadata": {
        "collapsed": true,
        "id": "Q0Xao884pN8W",
        "notebookgrader": {
          "id": "45c6753a7df6ab8ffe41966a055b9e03ced14cbd",
          "is_solution": true,
          "is_tests": false,
          "readonly": false
        }
      },
      "outputs": [],
      "source": [
        "#@title An anagram generator\n",
        "def anagrams(letters, word_length,current_word=''):\n",
        "    '''Generates all anagrams.'''\n",
        "    if (len(current_word)==word_length):\n",
        "      if current_word in words:\n",
        "        yield current_word\n",
        "    else:\n",
        "      for i, x in enumerate(letters):\n",
        "            # We separate elements into x and the remainder that\n",
        "            # consists of all elements minus x.\n",
        "            remainder = letters[:i] + letters[i+1:]\n",
        "            for result in anagrams(remainder, word_length,current_word+x):\n",
        "              yield result\n",
        "\n",
        "\n",
        "\n",
        "    assert isinstance(letters, str)\n",
        "    assert isinstance(word_length, int)\n",
        "    ### YOUR SOLUTION HERE"
      ]
    },
    {
      "cell_type": "code",
      "execution_count": 26,
      "metadata": {
        "id": "v7D017Yfrool",
        "notebookgrader": {
          "id": "b9af7b28745730048769263da39186df4b068d23",
          "is_solution": false,
          "is_tests": true,
          "readonly": true,
          "test_points": 35
        },
        "colab": {
          "base_uri": "https://localhost:8080/"
        },
        "outputId": "1522c58c-de87-4dd2-e592-c93e833867fd"
      },
      "outputs": [
        {
          "output_type": "stream",
          "name": "stdout",
          "text": [
            "1 demo\n",
            "2 dome\n",
            "3 mode\n"
          ]
        }
      ],
      "source": [
        "# Tests 35 points.\n",
        "for i, a in enumerate (anagrams('demo', len('demo')), 1):\n",
        "    print(i, a)\n",
        "\n",
        "assert {'demo', 'mode', 'dome'} == set(anagrams('demo', len('demo')))\n",
        "\n"
      ]
    },
    {
      "cell_type": "markdown",
      "metadata": {
        "id": "SSN_h5FuPMgB",
        "notebookgrader": {
          "id": "aa31033bcc2bfd88bcd486f6ad9a205198e578f1",
          "readonly": true
        }
      },
      "source": [
        "###Combinations"
      ]
    },
    {
      "cell_type": "markdown",
      "metadata": {
        "id": "mjtTAdxCqZYw",
        "notebookgrader": {
          "id": "fbbc0d90b16deb9c6dd56c5a855dccca00415c84",
          "readonly": true
        }
      },
      "source": [
        "A combination is a selection of elements from a set. Let $k$ be a number of selected elements from a set of $n$ elements, then there are:\n",
        "\n",
        "$C(n, k) = \\frac{n!}{k! (n-k)!}$ combinations.\n",
        "\n",
        "For example, if we select 2 elements from the set {1, 2, 3}, then the number of combinations is:\n",
        "\n",
        "$C(3, 2) = \\frac{3!}{2! (3-2)!}=3$. They are:\n",
        "```\n",
        "{1, 2}\n",
        "{1, 3}\n",
        "{2, 3}\n",
        "```\n",
        "Note that we use a set to represent a combination because a combination as a set is an unordered collection of elements. Whereas a permutation is represented as a tuple, an ordered collection of elements.\n",
        "\n",
        "Combinations are related to permutations. We know that $P(n, k) = \\frac{n!}{(n-k)!}$. Thus, we can write the formula for combinations in the following way:\n",
        "\n",
        "$C(n, k) = \\frac{P(n,k)}{k!}$\n",
        "\n",
        "Since a combination is a set, the order of elements in the combination does not matter. This is indicated by dividing permutations $P(n,k)$ by $k!$ where $k!$ corresponds to the number of ways $k$ elements can be ordered.\n"
      ]
    },
    {
      "cell_type": "markdown",
      "metadata": {
        "id": "ZhF69UbMUoPt",
        "notebookgrader": {
          "id": "a53647e87ca1bd085757c0900b56e93a7f0f1ab8",
          "readonly": true
        }
      },
      "source": [
        "To generate a combination $C(n, k)$, we can use a similar approach that we use to generate a permutation $P(n)$ -- we can generate combinations that are made on a smaller set and select less elements.\n",
        "\n",
        "The recurrence formula for combinations is:\n",
        "\n",
        "$C(n,k)=C(n-1,k-1)+C(n-1,k)$\n",
        "\n",
        "We can substitute the term $C(n-1, k)$ in the formula recursively and derive another formula called the [hockey-stick identity](https://en.wikipedia.org/wiki/Hockey-stick_identity):\n",
        "\n",
        "$C(n,k)=C(n-1,k-1)+C(n-2,k-1)+C(n-3,k-1)+...+C(k-1,k-1)$\n",
        "\n",
        "Consider the Pascal's triangle:\n",
        "```\n",
        "  k   | 0  1  2  3  4  5\n",
        "  ----------------------\n",
        "  n   |\n",
        "  0   | 1\n",
        "  1   | 1  1\n",
        "  2   | 1  2  1\n",
        "  3   | 1  3  3  1\n",
        "  4   | 1  4  6  4  1\n",
        "  5   | 1  5 10 10  5  1\n",
        "```\n",
        "The columns in the triangle correspond to $k$, the number of chosen elements. The rows in the triangle correspond to $n$, the total number of elements in the set, from which $k$ elements are chosen.\n",
        "\n",
        "Let's have a set of five elements {1, 2, 3, 4, 5}. We want to generate all combinations $C(5, 3)$. We find the row $n=5$ (row counting starts from 0) and the column $k=3$ (column counting starts from 0) in the Pascal's triangle. The number of combinations is $C(5,3)=10$.\n",
        "\n",
        "You can find the numbers that form the hockey-stick pattern -- they are in the same column $k=2$ and above the row $n=5$. Their sum is also $10$:\n",
        "\n",
        "$1+3+6=10$\n",
        "\n",
        "The question is: Why does this pattern work? Let's look at the following diagram:\n",
        "```\n",
        "Round 1. Choosing 1 as the first element:\n",
        "1 - 2 - 3\n",
        "        4\n",
        "        5\n",
        "    3 - 4\n",
        "        5\n",
        "    4 - 5\n",
        "\n",
        "Round 2. Choosing 2 as the first element:\n",
        "2 - 3 - 4\n",
        "        5    \n",
        "    4 - 5\n",
        "\n",
        "Round 3. Choosing 3 as the first element:\n",
        "3 - 4 - 5\n",
        "```\n",
        "The three columns correspond to sequentially choosing the **first element**, **second element**, and the **third element**.\n",
        "\n",
        "* If we choose the first element 1, then the **second element** can be 2, 3, or 4. If we choose the second element 2, then the **third element** can be 3, 4, or 5. If the second element is 3, then the **third element** can be 4 or 5. If the second element is 4, the **third element** is 5.\n",
        "\n",
        "* If we choose the first element 2, then the **second element** can be 3 or 4. If the second element is 3, then the **third element** can be 4 or 5. If the second element is 4, then the **third element** is 5.\n",
        "\n",
        "* If we choose the first element 3, then the **second element** is 4, and the **third element** is 5.\n",
        "\n",
        "You may notice the pattern: the number of combinations is $(3 + 2 + 1) + (2 + 1) + (1) = 10$.\n",
        "* Note that we shift elements in each round -- so $2$ cannot be combined with $1$, and $3$ cannot be combined with $1$ or $2$, because combinations are unordered and duplicates should not be generated.\n",
        "* Also note that if $k > n$, we cannot form a valid combination (i.e., we cannot choose $k$ elements from a set of $n$ elements if $k>n$). This is why we cannot choose $4$ or $5$ as the **first element** -- there are not enough elements following them.\n",
        "\n",
        "\n",
        "\n",
        "\n"
      ]
    },
    {
      "cell_type": "code",
      "execution_count": 27,
      "metadata": {
        "id": "U6gIUL-Vqj4F",
        "notebookgrader": {
          "id": "d6fba412033e1936e119793ec95e473818d65cac",
          "is_solution": false,
          "is_tests": false,
          "readonly": true
        }
      },
      "outputs": [],
      "source": [
        "#@title A function that returns all combinations\n",
        "def all_combs(elements, k):\n",
        "    '''Returns a list of all combinations.'''\n",
        "    if k == 0:\n",
        "        return [[]]\n",
        "    lst = []\n",
        "    for i in range(0, len(elements)):\n",
        "        m = elements[i]      # remove an element\n",
        "        r = elements[i + 1:]\n",
        "        for c in all_combs(r, k - 1): # create combinations from the remaining elements\n",
        "            lst.append([m] + c)\n",
        "    return lst"
      ]
    },
    {
      "cell_type": "code",
      "execution_count": 28,
      "metadata": {
        "collapsed": true,
        "id": "n1nOkR6yXqDH",
        "notebookgrader": {
          "id": "be4b11edfd079d3b46e6931cb4f846e0fff18ef5",
          "is_solution": false,
          "is_tests": false,
          "readonly": true
        },
        "colab": {
          "base_uri": "https://localhost:8080/"
        },
        "outputId": "34e60319-7f19-403b-c0ec-3dd9f6c4ce9e"
      },
      "outputs": [
        {
          "output_type": "stream",
          "name": "stdout",
          "text": [
            "[['1', '2', '3'], ['1', '2', '4'], ['1', '2', '5'], ['1', '3', '4'], ['1', '3', '5'], ['1', '4', '5'], ['2', '3', '4'], ['2', '3', '5'], ['2', '4', '5'], ['3', '4', '5']]\n",
            "10\n"
          ]
        }
      ],
      "source": [
        "# Let's test the function\n",
        "items ='12345'\n",
        "combs = all_combs(list(items), 3)\n",
        "print(combs)\n",
        "print(len(combs))"
      ]
    },
    {
      "cell_type": "markdown",
      "metadata": {
        "id": "doW1qJlqO9cm",
        "notebookgrader": {
          "id": "d9835538a5d2f480d06d90fda51c512c09166aa1",
          "readonly": true
        }
      },
      "source": [
        "In the code above, lists are used to represent combinations. Since combinations are mathematically sets, sets could be used instead. However, because sets in Python automatically remove duplicates, using them may conceal flaws in the implementation of the combinatorial logic. For debugging purposes, I prefer using lists because it may reveal potential errors in logic.\n",
        "\n",
        "**NOTE**\n",
        "\n",
        "* The `all_combs` function is a recursive function that returns a list of all combinations at once.\n",
        "* The variable `lst` serves as a container (a list) used to accumulate all combinations.\n",
        "* Each combination is formed by adding the selected first element `m` to every combination `c` generated from a smaller subset `r`.\n",
        "\n",
        "This code effectively implements the hockey-stick identity from combinatorics."
      ]
    },
    {
      "cell_type": "markdown",
      "metadata": {
        "id": "IOTuDtQibw8C",
        "notebookgrader": {
          "id": "867371e17e2663c9bcd34086629446fadbb49f66",
          "readonly": true
        }
      },
      "source": [
        "Here is a more formal definition of the problem.\n",
        "\n",
        "Consider a list $L = [x_1, x_2, \\ldots, x_n]$ consisting of all distinct elements, and an integer $k$.\n",
        "Let $C(k, L)$ be the set of subsets of $L$ containing $k$ elements.\n",
        "$C(k, L)$ is also known as the _combinations of $L$ in groups of $k$_.\n",
        "\n",
        "We will write a function `combinations(k, L)` that computes $C(k, L)$.\n",
        "To do so, we will use recursion, and write $C(k, L)$ in terms of $C(k-1, \\ldots)$.\n",
        "That is, to generate the subsets of length $k$, we will rely on a recursive call (a call to $C$ itself) to generate the subsets of length $k-1$.\n",
        "To write the recursion, let $\\cup^*$ be the operator taking the union of a set with each set in a set:\n",
        "\n",
        "$$\n",
        "A \\cup^* B = \\{a \\cup b \\mid b \\in B\\} \\; .\n",
        "$$\n",
        "\n",
        "There are three cases, depending on the relation between the size $k$ of the subset we want, and the number $n = |L|$ of elements in $L$.\n",
        "\n",
        "1. If $k = n$, we can just return a set containing $L$.\n",
        "\n",
        "2. If $k > n$, then obviously $C(k, L) = \\emptyset$, where $\\emptyset$ denotes the empty set, as we cannot obtain a subset bigger than the set itself.\n",
        "\n",
        "3. If $k < n$, to generate the $k$-subsets of a list $L$, you pick each element $x$ of $L$ in turn, you consider the list $L'$ of elements following $x$ in $L$, and you return the union of $x$, and of a $k-1$-subset of $L'$.\n",
        "For those who like the precision of formulas:\n",
        "\n",
        "$$\n",
        "\\begin{align*}\n",
        "C(k, [x_1, \\ldots, x_n]) = \\{ \\, & \\{x_1\\} \\cup^* C(k - 1, [x_2, \\ldots, x_n]),\\\\\n",
        "& \\{x_2\\} \\cup^* C(k-1, [x_3, \\ldots, x_n]), \\\\\n",
        "& \\cdots \\\\\n",
        "& \\{x_i\\} \\cup^* C(k-1, [x_{i+1}, \\ldots, x_n]),\\\\\n",
        "& \\cdots \\\\\n",
        "& \\{x_n\\} \\cup^* C(k-1, \\emptyset) \\, \\} \\; .\n",
        "\\end{align*}\n",
        "$$"
      ]
    },
    {
      "cell_type": "markdown",
      "metadata": {
        "id": "yMq9OQko1dsc",
        "notebookgrader": {
          "id": "def0d3604657442bf4d0e5efa52b0bfd54233f9e",
          "readonly": true
        }
      },
      "source": [
        "###Extra Credit Question 4: Combinations\n",
        "Implement a function `combinations(k, elements)` corresponding to the function $C$ discussed above. Your function should be a generator that yields one combination at a time. Combinations can be implemented as lists, tuples, or sets. However, your generator should yield a set, not a tuple or a list. I recommend to use sets for this assignment."
      ]
    },
    {
      "cell_type": "code",
      "execution_count": 29,
      "metadata": {
        "id": "UwR6Yl3UqaAX",
        "notebookgrader": {
          "id": "bfdc5c1dbf46de5b1ebf54b71caddd252d7cb16d",
          "is_solution": true,
          "is_tests": false,
          "readonly": false
        }
      },
      "outputs": [],
      "source": [
        "#@title A combination generator\n",
        "\n",
        "def combinations(k, elements):\n",
        "    assert isinstance(elements, list)\n",
        "    # This can be done in 8 lines of code, and possibly fewer. The first four lines of code are given.\n",
        "    # You may continue the code by adding the missing lines (e.g., add an else branch)\n",
        "    if k == 0:\n",
        "        yield set()\n",
        "    elif k > len(elements):\n",
        "        return\n",
        "    else:\n",
        "        first=elements[0]\n",
        "        remainder=elements[1:]\n",
        "        for c in combinations(k-1,remainder):\n",
        "          yield {first}|c\n",
        "        for c in combinations(k,remainder):\n",
        "          yield c\n",
        "\n",
        "\n"
      ]
    },
    {
      "cell_type": "code",
      "execution_count": 30,
      "metadata": {
        "cellView": "form",
        "id": "5onlnpu4AY9Y",
        "notebookgrader": {
          "id": "8b231a3e79ba6ddbec35fccffe7e9fe4f831b6c7",
          "is_solution": false,
          "is_tests": true,
          "readonly": true,
          "test_points": 5
        }
      },
      "outputs": [],
      "source": [
        "# Tests 5 points.\n",
        "\n",
        "# Base cases tests.\n",
        "L = [1, 2, 3, 4, 5]\n",
        "\n",
        "# There are no combinations of 5 elements in groups of 6.\n",
        "n = 0\n",
        "for c in combinations(6, L):\n",
        "    n += 1\n",
        "assert n == 0\n",
        "\n",
        "\n",
        "# There is only one combination of 5 elements in groups of 5: the set itself.\n",
        "n = 0\n",
        "for c in combinations(5, L):\n",
        "    assert c == set(L)\n",
        "    n += 1\n",
        "assert n == 1\n"
      ]
    },
    {
      "cell_type": "code",
      "execution_count": 31,
      "metadata": {
        "cellView": "form",
        "id": "SEhk0MIrFi0q",
        "notebookgrader": {
          "id": "e4c0aeb8b7b46362c0f8c5b9e2b10a06d62ae0d2",
          "is_solution": false,
          "is_tests": true,
          "readonly": true,
          "test_points": 5
        }
      },
      "outputs": [],
      "source": [
        "# Tests 5 points.\n",
        "\n",
        "# Base cases tests.\n",
        "L = [1, 2, 3, 4, 5]\n",
        "\n",
        "# There is only one combination of 5 elements in groups of 0: the empty set.\n",
        "n = 0\n",
        "for c in combinations(0, L):\n",
        "    assert c == set()\n",
        "    n += 1\n",
        "assert n == 1\n"
      ]
    },
    {
      "cell_type": "code",
      "execution_count": 32,
      "metadata": {
        "cellView": "form",
        "id": "zffkwVHQxhCK",
        "notebookgrader": {
          "id": "b9dc5bfa845e2b9db7bc80a275d4b62e2d85960d",
          "is_solution": false,
          "is_tests": true,
          "readonly": true,
          "test_points": 5
        }
      },
      "outputs": [],
      "source": [
        "# Tests 5 points.\n",
        "\n",
        "# Normal tests for a combination generator.\n",
        "\n",
        "L = [1, 3, 4, 2, 5]\n",
        "c2 = combinations(2, L)\n",
        "c3 = combinations(3, L)\n",
        "n = 0\n",
        "ok = False\n",
        "for c in c2:\n",
        "    n += 1\n",
        "    assert len(c) == 2\n",
        "    if c == {3, 2}:\n",
        "        ok = True\n",
        "assert n == 10\n",
        "assert ok\n",
        "\n",
        "n = 0\n",
        "ok = False\n",
        "for c in c3:\n",
        "    assert len(c) == 3\n",
        "    n += 1\n",
        "    if c == {2, 3, 5}:\n",
        "        ok = True\n",
        "assert n == 10\n",
        "assert ok\n"
      ]
    },
    {
      "cell_type": "markdown",
      "metadata": {
        "id": "tbO_wgPoIKNf",
        "notebookgrader": {
          "id": "e5166be071a328051e912f7cb6ce3959e78ca94d",
          "readonly": true
        }
      },
      "source": [
        "###Power Set"
      ]
    },
    {
      "cell_type": "markdown",
      "metadata": {
        "id": "67hK04CPIOom",
        "notebookgrader": {
          "id": "e99a4556a644d3787df2d9ba7ee775860e8c5400",
          "readonly": true
        }
      },
      "source": [
        "The [power set ](https://en.wikipedia.org/wiki/Power_set) of a set $A$, denoted $P(A)$, includes all possible subsets formed from the elements of $A$. If the number of elements in $A$ is $n$, then the power set $P(A)$ contains $2^n$ elements.\n",
        "\n",
        "For example:\n",
        "\n",
        "* If set $A = \\{1, 2, 3\\}$, then the power set $P(A)$ has the following subsets:\n",
        "$$P(A) = \\{\\{\\}, \\{1\\}, \\{2\\}, \\{3\\}, \\{1, 2\\}, \\{1, 3\\}, \\{2, 3\\}, \\{1,2,3\\}\\}$$.\n",
        "\n",
        "* If set $B = \\{1, 2\\}$, then the power set $P(B)$ has the following subsets:\n",
        "$$P(B) = \\{\\{\\}, \\{1\\}, \\{2\\}, \\{1, 2\\}\\}$$.\n",
        "\n",
        "* If set $C = \\{1\\}$, then the power set $P(C)$ has the following subsets:\n",
        "$$P(C) = \\{\\{\\}, \\{1\\}\\}$$.\n",
        "\n",
        "**NOTE**\n",
        "\n",
        "We can generate $P(B)$ from $P(C)$ by uniting sets:\n",
        "* The original power set $P(C) = \\{\\{\\}, \\{1\\}\\}$\n",
        "* The sets $\\{2\\}$ and $\\{1, 2\\}$, formed by adding the new element $2$ to each subset in $P(C)$.\n",
        "\n",
        "Thus, at each step, we double the number of subsets by combining the existing power set with a version that includes the new element added to each subset."
      ]
    },
    {
      "cell_type": "markdown",
      "metadata": {
        "id": "3H5yFGpqNuSK",
        "notebookgrader": {
          "id": "40e965a758c701f042d8dbf2177e5e364dd43055",
          "readonly": true
        }
      },
      "source": [
        "### Extra Credit Question 5: Power set\n",
        "\n",
        "Given a set, write a generator that returns all subsets of the set one at a time.  \n",
        "\n",
        "**Hint:**\n",
        "\n",
        "You need to decompose the problem.  Given a set $S$, let $x \\in S$ and $S' = S \\setminus \\{x\\}$ (i.e., $S'$ is a set without element $x$).  \n",
        "\n",
        "Denoting with $P(S)$ (the _power set_ of $S$) the set of subsets of $S$, we have:\n",
        "\n",
        "$$\n",
        "P(S) = P(S') \\cup \\{T \\cup \\{x\\} \\mid T \\in P(S') \\} \\; .\n",
        "$$\n",
        "\n",
        "In words, if you select an element of $x$, and let $S' = S \\setminus \\{x\\}$, then the subsets of $S$ are the union of:\n",
        "\n",
        "* the subsets of $S'$,\n",
        "* the subsets of $S'$, with $x$ added to them.\n",
        "\n",
        "This enables you to reduce the problem of computing the subsets of $S$, to that of computing the subsets of the smaller set $S'$."
      ]
    },
    {
      "cell_type": "code",
      "execution_count": 33,
      "metadata": {
        "id": "QlrpNY18Xhm8",
        "notebookgrader": {
          "id": "660f429b6214add7c815d4fdac1a7d76d2b2ba28",
          "is_solution": true,
          "is_tests": false,
          "readonly": false
        }
      },
      "outputs": [],
      "source": [
        "#@title Power set generator\n",
        "\n",
        "def subsets(s):\n",
        "    \"\"\"Given a set s, yield all the subsets of s,\n",
        "    including s itself and the empty set.\"\"\"\n",
        "    if len(s) == 0:\n",
        "        yield set()\n",
        "    else:\n",
        "        lst=list(s)\n",
        "        temp=lst[0]\n",
        "        remainder=lst[1:]\n",
        "        for c in subsets(set(remainder)):\n",
        "          yield {temp}|c\n",
        "        for c in subsets(set(remainder)):\n",
        "          yield c\n",
        "\n",
        "                    # you may continue the code in the else branc\n",
        "    ### YOUR SOLUTION HERE"
      ]
    },
    {
      "cell_type": "code",
      "execution_count": 34,
      "metadata": {
        "cellView": "form",
        "collapsed": true,
        "id": "vs9RK4ELYgIZ",
        "notebookgrader": {
          "id": "a0d888303798621b706a294e076a754252674419",
          "is_solution": false,
          "is_tests": true,
          "readonly": true,
          "test_points": 15
        },
        "colab": {
          "base_uri": "https://localhost:8080/"
        },
        "outputId": "67232208-0def-4e0d-d9a6-af86830f19d1"
      },
      "outputs": [
        {
          "output_type": "stream",
          "name": "stdout",
          "text": [
            "{1, 2, 3}\n",
            "{1, 2}\n",
            "{1, 3}\n",
            "{1}\n",
            "{2, 3}\n",
            "{2}\n",
            "{3}\n",
            "set()\n",
            "[{1, 2, 3}, {1, 2}, {1, 3}, {1}, {2, 3}, {2}, {3}, set()]\n"
          ]
        }
      ],
      "source": [
        "# Tests 15 points.\n",
        "\n",
        "s = set([1, 2, 3])\n",
        "for t in subsets(s):\n",
        "    print(t)\n",
        "\n",
        "print(list(subsets(s)))\n",
        "assert len(list(subsets(s))) == 8\n",
        "\n",
        "for i in range(8):\n",
        "    s = range(i)\n",
        "    p = list(subsets(s))\n",
        "    assert len(p) == 2 ** i\n",
        "\n",
        "s = set(['a', 'b', 'c'])\n",
        "p = list(subsets(s))\n",
        "assert set(['a', 'c']) in p\n"
      ]
    }
  ],
  "metadata": {
    "colab": {
      "provenance": [],
      "toc_visible": true,
      "include_colab_link": true
    },
    "kernelspec": {
      "display_name": "Python 3",
      "name": "python3"
    },
    "language_info": {
      "name": "python"
    },
    "notebookgrader": {
      "total_points": 130
    }
  },
  "nbformat": 4,
  "nbformat_minor": 0
}