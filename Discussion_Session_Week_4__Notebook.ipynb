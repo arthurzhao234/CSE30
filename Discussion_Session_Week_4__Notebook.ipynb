{
  "cells": [
    {
      "cell_type": "markdown",
      "metadata": {
        "id": "view-in-github",
        "colab_type": "text"
      },
      "source": [
        "<a href=\"https://colab.research.google.com/github/arthurzhao234/CSE30/blob/main/Discussion_Session_Week_4__Notebook.ipynb\" target=\"_parent\"><img src=\"https://colab.research.google.com/assets/colab-badge.svg\" alt=\"Open In Colab\"/></a>"
      ]
    },
    {
      "cell_type": "markdown",
      "metadata": {
        "id": "DhD4v7se8Xjk"
      },
      "source": [
        "# Week 4 Discussion Session: Recursion, Permutations, and Combinations in Games and Puzzles\n",
        "\n"
      ]
    },
    {
      "cell_type": "markdown",
      "metadata": {
        "id": "5QmjyHJ7MZvj"
      },
      "source": [
        "## Exercises\n",
        "\n"
      ]
    },
    {
      "cell_type": "markdown",
      "metadata": {
        "id": "hA90wAN1MZvj"
      },
      "source": [
        "### **1. Factorials**\n",
        "\n",
        "Write a `factorial` function that returns the factorial $n!$:\n",
        "\n",
        "* $n$ is an integer.\n",
        "\n",
        "First, implement the function using iteration.\n",
        "\n",
        "Next, implement the function using recursion."
      ]
    },
    {
      "cell_type": "code",
      "execution_count": 10,
      "metadata": {
        "id": "zdV9kS7ZMZvj",
        "colab": {
          "base_uri": "https://localhost:8080/"
        },
        "outputId": "250bc529-fd27-40bb-f107-923902fd81f8"
      },
      "outputs": [
        {
          "output_type": "stream",
          "name": "stdout",
          "text": [
            "120\n"
          ]
        }
      ],
      "source": [
        "''' Your code goes here '''\n",
        "def factorial(n):\n",
        "    if n==0:\n",
        "      return 1\n",
        "    if n==1:\n",
        "      return 1\n",
        "    else:\n",
        "      return n*factorial(n-1)\n",
        "print(factorial(5))\n"
      ]
    },
    {
      "cell_type": "code",
      "source": [
        "# your functions should work with the following code:\n",
        "\n",
        "assert factorial(1) == 1\n",
        "assert factorial(0) == 1\n",
        "assert factorial(5) == 1 * 2 * 3 * 4 * 5"
      ],
      "metadata": {
        "id": "1PFnWscH9vHy"
      },
      "execution_count": 11,
      "outputs": []
    },
    {
      "cell_type": "markdown",
      "metadata": {
        "id": "7djpg_1p1cLY"
      },
      "source": [
        "### **2. Fibonacci Numbers**\n",
        "\n",
        "Implement a fibonacci function that computes the $n$th number in the Fibonacci sequence:\n",
        "\n",
        "* $n$ is an integer\n",
        "\n",
        "First, implement the function using iteration.\n",
        "\n",
        "Next, implement the function using recursion.\n",
        "\n",
        "**NOTE**\n",
        "\n",
        "The Fibonacci sequence is defined as:\n",
        "\n",
        "$\n",
        "F(n) =\n",
        "\\begin{cases}\n",
        "0 & \\text{if } n = 0 \\\\\n",
        "1 & \\text{if } n = 1 \\\\\n",
        "F(n - 1) + F(n - 2) & \\text{if } n > 1\n",
        "\\end{cases}\n",
        "$\n",
        "\n",
        "\n",
        "\n"
      ]
    },
    {
      "cell_type": "code",
      "execution_count": 14,
      "metadata": {
        "id": "YOHMYVX6MZvk"
      },
      "outputs": [],
      "source": [
        "\"\"\" Write Code Here \"\"\"\n",
        "def fibonacci(n):\n",
        "  if n==0:\n",
        "    return 0\n",
        "  if n==1:\n",
        "    return 1\n",
        "  else:\n",
        "    return fibonacci(n-1)+fibonacci(n-2)\n"
      ]
    },
    {
      "cell_type": "code",
      "source": [
        "# your fibonacci functions should work with the following code:\n",
        "\n",
        "assert fibonacci(0) == 0\n",
        "assert fibonacci(1) == 1\n",
        "assert fibonacci(2) == 1\n",
        "assert fibonacci(3) == 2"
      ],
      "metadata": {
        "id": "AAYoAavjLDYN"
      },
      "execution_count": 15,
      "outputs": []
    },
    {
      "cell_type": "markdown",
      "metadata": {
        "id": "J67Ob-kd8Q7C"
      },
      "source": [
        "### **3. Tower of Hanoi**\n",
        "\n",
        "***Tower of Hanoi*** is a popular puzzle created in the 19th century by French mathematician Edouard Lucas based on a Hindu legend. The objective is to move $n$ disks from the source peg to the target peg using an auxiliary peg, following these rules:\n",
        "* Only one disk can be moved at a time.\n",
        "* A larger disk cannot be placed on top of a smaller disk.\n",
        "* All disks start on the source peg.\n",
        "\n",
        "Write a `tower_of_hanoi` recursive function that solves the puzzle by printing instructions in the following format:\n",
        "```\n",
        "Move disk 1 from A to C\n",
        "Move disk 2 from A to B\n",
        "Move disk 1 from C to B\n",
        "Move disk 3 from A to C\n",
        "Move disk 1 from B to A\n",
        "Move disk 2 from B to C\n",
        "Move disk 1 from A to C\n",
        "```\n",
        "where\n",
        "* $A$ is the source peg\n",
        "* $B$ is the target peg\n",
        "* $C$ is the auxiliary peg\n",
        "* disk $1$ is the smallest, disk $2$ is medium-sized, and disk $3$ is the largest. They are initially stacked on peg $A$ in increasing size from top to bottom.\n",
        "\n",
        "**NOTE**\n",
        "\n",
        "The minimum number of steps required to solve the Tower of Hanoi puzzle with $n$ disks is:\n",
        "\n",
        "$$ \\text{steps} = 2^n - 1$$\n",
        "\n",
        "According to a mystical Hindu legend, temple priests were tasked with moving $64$ golden disks from one peg to another within a sacred temple. The legend says that when the priests complete the puzzle, the world will end.\n",
        "\n",
        "Given the enormous number of moves required, $2^{64} - 1$, the task would take billions of years to finish, e.g., at one move per second, that would take over 584 billion years to complete! \"\n",
        "\n",
        "This parallels scientific predictions about the eventual death of our star, the Sun, which is expected to become a black dwarf -- a cold, dead remnant -- in trillions of years."
      ]
    },
    {
      "cell_type": "code",
      "execution_count": 17,
      "metadata": {
        "id": "LoMIg0cFMZvj"
      },
      "outputs": [],
      "source": [
        "def tower_of_hanoi(n, source, target, auxiliary):\n",
        "    if n == 1:\n",
        "        print(f\"Move disk 1 from {source} to {target}\")\n",
        "        return tower_of_hanoi(n - 1, source, auxiliary, target)\n",
        "        print(f\"Move disk {n} from {source} to {target}\")\n",
        "        tower_of_hanoi(n - 1, auxiliary, target, source)\n",
        "    ''' Your code goes here '''\n"
      ]
    },
    {
      "cell_type": "code",
      "source": [
        "# Your function should work with the following code\n",
        "tower_of_hanoi(3, 'A', 'C', 'B')"
      ],
      "metadata": {
        "id": "oxagukKtHtIj"
      },
      "execution_count": 18,
      "outputs": []
    },
    {
      "cell_type": "markdown",
      "metadata": {
        "id": "KSRW8c0l2qwi"
      },
      "source": [
        "### **4. Card Game**\n",
        "\n",
        "Use the `Card` class that you implemented earlier to create hands of cards. Calculate the possible combinations (hands) given the specified deck of cards.\n",
        "\n",
        "You may need to implement three classes:\n",
        "* Card\n",
        "* Deck\n",
        "* Hand\n",
        "\n",
        "The Card class has the following data attributes:\n",
        "\n",
        "* `rank`:  '2', '3', '4', '5', '6', '7', '8', '9', '10', 'J', 'Q', 'K', 'A'\n",
        "* `suit`:  '♣', '♦', '♥', '♠'\n",
        "* `code`: is the unicode of the suit:\n",
        "    ```\n",
        "    clubs = '\\u2663'\n",
        "    diamonds = '\\u2666'\n",
        "    hearts = '\\u2665'\n",
        "    spades = '\\u2660'\n",
        "    ```\n",
        "\n",
        "and the following methods:\n",
        "\n",
        "* `__repr__`\n",
        "* `__lt__`\n",
        "* `__eq__`\n",
        "\n",
        "The Deck class has the attribute:\n",
        "* cards\n",
        "\n",
        "and the methods:\n",
        "* shuffle\n",
        "* deal"
      ]
    },
    {
      "cell_type": "code",
      "execution_count": 27,
      "metadata": {
        "id": "bnFj7tdakPlC"
      },
      "outputs": [],
      "source": [
        "\"\"\" Write Code Here \"\"\"\n",
        "\n",
        "# You need to replace ? with correct expessions\n",
        "\n",
        "class Card:\n",
        "\n",
        "    SUITS = {\n",
        "        'Clubs': '\\u2663',\n",
        "        'Diamonds': '\\u2666',\n",
        "        'Hearts': '\\u2665',\n",
        "        'Spades': '\\u2660'\n",
        "    }\n",
        "    RANKS = ('2', '3', '4', '5', '6', '7', '8', '9', '10', 'J', 'Q', 'K', 'A')\n",
        "    RANK_VALUES = {rank: i for i, rank in enumerate(RANKS, start=2)}\n",
        "\n",
        "    def __init__(self, rank, suit):\n",
        "      self.rank=rank\n",
        "      self.suit=suit\n",
        "\n",
        "    def __str__(self):\n",
        "        symbol = Card.SUITS.get(self.suit, '?')\n",
        "        return f\"{self.rank}{symbol}\"\n",
        "\n",
        "    def __repr__(self):\n",
        "        return self.__str__()\n",
        "\n",
        "    def value(self):\n",
        "        return Card.RANK_VALUES.get(self.rank,0)\n",
        "\n"
      ]
    },
    {
      "cell_type": "code",
      "source": [
        "# your Card class should work with the followig code:\n",
        "hand = [\n",
        "    Card('A', 'Spades'),\n",
        "    Card('10', 'Hearts'),\n",
        "    Card('7', 'Clubs'),\n",
        "    Card('K', 'Diamonds'),\n",
        "    Card('3', 'Spades')\n",
        "]\n",
        "\n",
        "# print the hand\n",
        "print(f\"[{', '.join(str(c) for c in hand)}]\")\n"
      ],
      "metadata": {
        "colab": {
          "base_uri": "https://localhost:8080/"
        },
        "id": "KpxfOG9UbWnb",
        "outputId": "9ed69718-87ba-4b16-c225-b250d17bbff0"
      },
      "execution_count": 28,
      "outputs": [
        {
          "output_type": "stream",
          "name": "stdout",
          "text": [
            "[A♠, 10♥, 7♣, K♦, 3♠]\n"
          ]
        }
      ]
    },
    {
      "cell_type": "code",
      "source": [
        "card1 = Card('A', 'Spades')\n",
        "card2 = Card('10', 'Hearts')\n",
        "\n",
        "print(card1, card1.value())  # Output: 14\n",
        "print(card2, card2.value())  # Output: 10\n"
      ],
      "metadata": {
        "colab": {
          "base_uri": "https://localhost:8080/"
        },
        "id": "_J_zPYdrKioF",
        "outputId": "da59d99d-dcb0-4bec-b657-93898cd89c4f"
      },
      "execution_count": 29,
      "outputs": [
        {
          "output_type": "stream",
          "name": "stdout",
          "text": [
            "A♠ 14\n",
            "10♥ 10\n"
          ]
        }
      ]
    },
    {
      "cell_type": "code",
      "source": [
        "\"\"\" Write Code Here \"\"\"\n",
        "\n",
        "# You need to replace ? with correct expessions\n",
        "\n",
        "import random\n",
        "\n",
        "class Deck:\n",
        "    def __init__(self):\n",
        "        self.cards = [Card(rank, suit) for suit in Card.SUITS for rank in Card.RANKS]\n",
        "\n",
        "    def shuffle(self):\n",
        "        random.shuffle(self.cards)\n",
        "\n",
        "    def deal(self, num_hands=4, cards_per_hand=5):\n",
        "        hands = [[] for _ in range(num_hands)]\n",
        "        for round_num in range(cards_per_hand):\n",
        "            for hand_index in range(num_hands):\n",
        "                if self.cards:\n",
        "                    card = self.cards.pop()\n",
        "                    hands[hand_index].append(card)\n",
        "                else:\n",
        "                    break\n",
        "            else:\n",
        "                continue\n",
        "            break\n",
        "\n",
        "        return hands\n",
        "\n",
        "    def __str__(self):\n",
        "        return f\"Deck with {len(self.cards)} cards\"\n",
        "\n",
        "    def __iter__(self):\n",
        "        return iter(self.cards)\n"
      ],
      "metadata": {
        "id": "AJXnhd8HDHun"
      },
      "execution_count": 47,
      "outputs": []
    },
    {
      "cell_type": "code",
      "source": [
        "# your Deck class should work with the following code\n",
        "deck = Deck()\n",
        "deck.shuffle()\n",
        "hands = deck.deal(num_hands=4, cards_per_hand=5)\n",
        "\n",
        "for i, hand in enumerate(hands, start=1):\n",
        "    print(f\"Player {i}'s hand: {hand}\")\n"
      ],
      "metadata": {
        "colab": {
          "base_uri": "https://localhost:8080/"
        },
        "id": "IBiJmRk5E-Qj",
        "outputId": "6b00251e-95cf-42ca-c08c-4e4a81a5eb3e"
      },
      "execution_count": 48,
      "outputs": [
        {
          "output_type": "stream",
          "name": "stdout",
          "text": [
            "Player 1's hand: [10♠, 6♦, 5♥, 9♠, 6♠]\n",
            "Player 2's hand: [K♦, 5♠, 9♦, 5♦, 8♣]\n",
            "Player 3's hand: [J♦, 10♦, 6♣, K♣, 2♠]\n",
            "Player 4's hand: [A♠, J♠, 7♣, 2♣, 10♥]\n"
          ]
        }
      ]
    },
    {
      "cell_type": "code",
      "source": [
        "class Hand:\n",
        "    def __init__(self, cards=[]):\n",
        "        self.cards = cards if cards else[]\n",
        "\n",
        "    def add_card(self, card):\n",
        "        self.cards.append(card)\n",
        "\n",
        "    def play_card(self):\n",
        "        return self.cards.pop() if self.cards else None\n",
        "\n",
        "    def __str__(self):\n",
        "        return ', '.join(str(card) for card in self.cards)\n",
        "\n",
        "    def __iter__(self):\n",
        "        return iter(self.cards)\n"
      ],
      "metadata": {
        "id": "2htBmFvmEy4H"
      },
      "execution_count": 53,
      "outputs": []
    },
    {
      "cell_type": "code",
      "source": [
        "# your Hand class should work with the following code\n",
        "\n",
        "# Setup\n",
        "deck = Deck()\n",
        "deck.shuffle()\n",
        "raw_hands = deck.deal(num_hands=4, cards_per_hand=5)\n",
        "hands = [Hand(cards) for cards in raw_hands]\n",
        "\n",
        "# Show hands\n",
        "for i, hand in enumerate(hands, start=1):\n",
        "    print(f\"Player {i}'s hand: {hand}\")\n",
        "\n",
        "# Play a round\n",
        "print(\"\\n--- Round 1 ---\")\n",
        "played_cards = []\n",
        "for i, hand in enumerate(hands, start=1):\n",
        "    card = hand.play_card()\n",
        "    played_cards.append((i, card))\n",
        "    print(f\"Player {i} plays: {card}\")\n",
        "\n",
        "# Determine winner\n",
        "winner = max(played_cards, key=lambda x: x[1].value())\n",
        "print(f\"\\nPlayer {winner[0]} wins the round with {winner[1]}!\")\n"
      ],
      "metadata": {
        "colab": {
          "base_uri": "https://localhost:8080/"
        },
        "id": "QuWbS73yGOTA",
        "outputId": "2d7bdab9-1747-482e-e869-aa18d2750ddb"
      },
      "execution_count": 54,
      "outputs": [
        {
          "output_type": "stream",
          "name": "stdout",
          "text": [
            "Player 1's hand: Q♠, 7♠, 7♥, 9♠, Q♥\n",
            "Player 2's hand: J♠, 3♥, Q♣, 8♣, J♥\n",
            "Player 3's hand: 6♣, 6♠, 8♠, 4♣, 7♦\n",
            "Player 4's hand: 3♠, Q♦, A♦, A♥, 5♥\n",
            "\n",
            "--- Round 1 ---\n",
            "Player 1 plays: Q♥\n",
            "Player 2 plays: J♥\n",
            "Player 3 plays: 7♦\n",
            "Player 4 plays: 5♥\n",
            "\n",
            "Player 1 wins the round with Q♥!\n"
          ]
        }
      ]
    },
    {
      "cell_type": "code",
      "source": [
        "def evaluate_hand(hand):\n",
        "    # Sort by rank value\n",
        "    sorted_hand = sorted(hand, key=lambda card: card.value(), reverse=True)\n",
        "    return sorted_hand[0].value()  # Return highest card value\n",
        "\n",
        "def play_poker(num_players=4):\n",
        "    deck = Deck()\n",
        "    deck.shuffle()\n",
        "\n",
        "    raw_hands = deck.deal(num_hands=4, cards_per_hand=5)\n",
        "    hands = [Hand(cards) for cards in raw_hands]\n",
        "\n",
        "    for i, hand in enumerate(hands, start=1):\n",
        "        print(f\"Player {i}'s hand: {sorted(hand, key=lambda card: card.value(), reverse=True)}\")\n",
        "\n",
        "    scores = [(i + 1, evaluate_hand(hand)) for i, hand in enumerate(hands)]\n",
        "    winner = max(scores, key=lambda x: x[1])\n",
        "    print(f\"\\nPlayer {winner[0]} wins with the highest card!\")\n",
        "\n",
        "play_poker()"
      ],
      "metadata": {
        "colab": {
          "base_uri": "https://localhost:8080/"
        },
        "id": "fqY4O2qLQ4mE",
        "outputId": "7d2e7189-6975-4ddd-b702-80d7afb6521a"
      },
      "execution_count": 55,
      "outputs": [
        {
          "output_type": "stream",
          "name": "stdout",
          "text": [
            "Player 1's hand: [J♣, 9♣, 7♦, 7♥, 2♦]\n",
            "Player 2's hand: [A♠, 8♣, 8♠, 5♠, 2♣]\n",
            "Player 3's hand: [K♣, Q♥, Q♣, 10♣, 8♦]\n",
            "Player 4's hand: [A♥, A♣, 10♥, 6♠, 3♦]\n",
            "\n",
            "Player 2 wins with the highest card!\n"
          ]
        }
      ]
    },
    {
      "cell_type": "markdown",
      "metadata": {
        "id": "BDE4roCC8Q7F"
      },
      "source": [
        "### Want More Challenge?\n",
        "\n"
      ]
    },
    {
      "cell_type": "markdown",
      "metadata": {
        "id": "g1lERh-W6FE1"
      },
      "source": [
        "Write a `Cubik_Rubik` class that models a Rubik's cube, a 3D puzzle.\n",
        "\n",
        "* Rubik's cube is invented in 1974 by  a Hungarian architect Erno Rubik.\n",
        "* The cube is assembled of 27 smaller cubies:\n",
        "    * Corners: 8 cubies (each with 3 visible faces)\n",
        "    * Edges: 12 cubies (each with 2 visible faces)\n",
        "    * Centers: 6 cubies (each with 1 visible face)\n",
        "    * Core: 1 hidden cubie (not really a cube but a mechanism that holds everything together)\n",
        "* The small cubies can rotate relatively each other, allowing one face layer at a time to turn.\n",
        "* Each cube face has $3\\times 3$ grid with each cell representing the visible face of a smaller cubie. All six faces have distinct colors.\n",
        "* The goal is to twist and turn the shuffled layers of the cube until each face shows only one color."
      ]
    },
    {
      "cell_type": "markdown",
      "source": [
        "You can use the code below to practice with implementation of the puzzle Cubik Rubik (Rubik's cube). You can design an algorithm to unscramble the Rubik's Cube -- use the `solve` method."
      ],
      "metadata": {
        "id": "99d7J7RmGXyw"
      }
    },
    {
      "cell_type": "code",
      "execution_count": null,
      "metadata": {
        "id": "-_kDY9SYkR6o"
      },
      "outputs": [],
      "source": [
        "''' Write Code Here '''\n",
        "\n",
        "class Cubik_Rubik:\n",
        "\n",
        "    def __init__(self):\n",
        "        self.faces = {\n",
        "            'U': [['W'] * 3 for _ in range(3)],  # Up (White)\n",
        "            'D': [['Y'] * 3 for _ in range(3)],  # Down (Yellow)\n",
        "            'F': [['G'] * 3 for _ in range(3)],  # Front (Green)\n",
        "            'B': [['B'] * 3 for _ in range(3)],  # Back (Blue)\n",
        "            'L': [['O'] * 3 for _ in range(3)],  # Left (Orange)\n",
        "            'R': [['R'] * 3 for _ in range(3)]   # Right (Red)\n",
        "        }\n",
        "\n",
        "    def solve(self):\n",
        "        ''' Write Code Here '''\n",
        "        pass\n",
        "\n",
        "    def rotate_face_clockwise(self, face):\n",
        "        self.faces[face] = [list(row) for row in zip(*self.faces[face][::-1])]\n",
        "\n",
        "    def rotate_face_counterclockwise(self, face):\n",
        "        self.faces[face] = [list(row) for row in zip(*self.faces[face])][::-1]\n",
        "\n",
        "    def move_U(self):\n",
        "        self.rotate_face_clockwise('U')\n",
        "        # Rotate top rows of adjacent faces: F, R, B, L\n",
        "        f, r, b, l = self.faces['F'][0], self.faces['R'][0], self.faces['B'][0], self.faces['L'][0]\n",
        "        self.faces['F'][0], self.faces['R'][0], self.faces['B'][0], self.faces['L'][0] = r, b, l, f\n",
        "\n",
        "    def move_D(self):\n",
        "        self.rotate_face_clockwise('D')\n",
        "        f, r, b, l = self.faces['F'][2], self.faces['R'][2], self.faces['B'][2], self.faces['L'][2]\n",
        "        self.faces['F'][2], self.faces['R'][2], self.faces['B'][2], self.faces['L'][2] = l, f, r, b\n",
        "\n",
        "    def move_F(self):\n",
        "        self.rotate_face_clockwise('F')\n",
        "        u, r, d, l = self.faces['U'], self.faces['R'], self.faces['D'], self.faces['L']\n",
        "        temp = [u[2][i] for i in range(3)]\n",
        "        for i in range(3):\n",
        "            u[2][i] = l[2 - i][2]\n",
        "            l[2 - i][2] = d[0][2 - i]\n",
        "            d[0][2 - i] = r[i][0]\n",
        "            r[i][0] = temp[i]\n",
        "\n",
        "    def move_B(self):\n",
        "        self.rotate_face_clockwise('B')\n",
        "        u, r, d, l = self.faces['U'], self.faces['R'], self.faces['D'], self.faces['L']\n",
        "        temp = [u[0][i] for i in range(3)]\n",
        "        for i in range(3):\n",
        "            u[0][i] = r[i][2]\n",
        "            r[i][2] = d[2][2 - i]\n",
        "            d[2][2 - i] = l[2 - i][0]\n",
        "            l[2 - i][0] = temp[i]\n",
        "\n",
        "    def move_L(self):\n",
        "        self.rotate_face_clockwise('L')\n",
        "        u, f, d, b = self.faces['U'], self.faces['F'], self.faces['D'], self.faces['B']\n",
        "        temp = [u[i][0] for i in range(3)]\n",
        "        for i in range(3):\n",
        "            u[i][0] = b[2 - i][2]\n",
        "            b[2 - i][2] = d[i][0]\n",
        "            d[i][0] = f[i][0]\n",
        "            f[i][0] = temp[i]\n",
        "\n",
        "    def move_R(self):\n",
        "        self.rotate_face_clockwise('R')\n",
        "        u, f, d, b = self.faces['U'], self.faces['F'], self.faces['D'], self.faces['B']\n",
        "        temp = [u[i][2] for i in range(3)]\n",
        "        for i in range(3):\n",
        "            u[i][2] = f[i][2]\n",
        "            f[i][2] = d[i][2]\n",
        "            d[i][2] = b[2 - i][0]\n",
        "            b[2 - i][0] = temp[i]\n",
        "\n",
        "    def move_U_prime(self):\n",
        "        self.rotate_face_counterclockwise('U')\n",
        "        f, r, b, l = self.faces['F'][0], self.faces['R'][0], self.faces['B'][0], self.faces['L'][0]\n",
        "        self.faces['F'][0], self.faces['R'][0], self.faces['B'][0], self.faces['L'][0] = l, f, r, b\n",
        "\n",
        "    def move_D_prime(self):\n",
        "        self.rotate_face_counterclockwise('D')\n",
        "        f, r, b, l = self.faces['F'][2], self.faces['R'][2], self.faces['B'][2], self.faces['L'][2]\n",
        "        self.faces['F'][2], self.faces['R'][2], self.faces['B'][2], self.faces['L'][2] = r, b, l, f\n",
        "\n",
        "    def move_F_prime(self):\n",
        "        self.rotate_face_counterclockwise('F')\n",
        "        u, r, d, l = self.faces['U'], self.faces['R'], self.faces['D'], self.faces['L']\n",
        "        temp = [u[2][i] for i in range(3)]\n",
        "        for i in range(3):\n",
        "            u[2][i] = r[i][0]\n",
        "            r[i][0] = d[0][2 - i]\n",
        "            d[0][2 - i] = l[2 - i][2]\n",
        "            l[2 - i][2] = temp[i]\n",
        "\n",
        "    def move_B_prime(self):\n",
        "        self.rotate_face_counterclockwise('B')\n",
        "        u, r, d, l = self.faces['U'], self.faces['R'], self.faces['D'], self.faces['L']\n",
        "        temp = [u[0][i] for i in range(3)]\n",
        "        for i in range(3):\n",
        "            u[0][i] = l[2 - i][0]\n",
        "            l[2 - i][0] = d[2][2 - i]\n",
        "            d[2][2 - i] = r[i][2]\n",
        "            r[i][2] = temp[i]\n",
        "\n",
        "    def move_L_prime(self):\n",
        "        self.rotate_face_counterclockwise('L')\n",
        "        u, f, d, b = self.faces['U'], self.faces['F'], self.faces['D'], self.faces['B']\n",
        "        temp = [u[i][0] for i in range(3)]\n",
        "        for i in range(3):\n",
        "            u[i][0] = f[i][0]\n",
        "            f[i][0] = d[i][0]\n",
        "            d[i][0] = b[2 - i][2]\n",
        "            b[2 - i][2] = temp[i]\n",
        "\n",
        "    def move_R_prime(self):\n",
        "        self.rotate_face_counterclockwise('R')\n",
        "        u, f, d, b = self.faces['U'], self.faces['F'], self.faces['D'], self.faces['B']\n",
        "        temp = [u[i][2] for i in range(3)]\n",
        "        for i in range(3):\n",
        "            u[i][2] = b[2 - i][0]\n",
        "            b[2 - i][0] = d[i][2]\n",
        "            d[i][2] = f[i][2]\n",
        "            f[i][2] = temp[i]\n",
        "\n",
        "    def scramble(self, moves_count=20):\n",
        "        moves = [\n",
        "            self.move_U, self.move_U_prime,\n",
        "            self.move_D, self.move_D_prime,\n",
        "            self.move_F, self.move_F_prime,\n",
        "            self.move_B, self.move_B_prime,\n",
        "            self.move_L, self.move_L_prime,\n",
        "            self.move_R, self.move_R_prime\n",
        "        ]\n",
        "        for _ in range(moves_count):\n",
        "            random.choice(moves)()\n",
        "\n",
        "    def print_face(self, face):\n",
        "        print(f\"{face} face:\")\n",
        "        for row in self.faces[face]:\n",
        "            print(' '.join(row))\n",
        "        print()\n",
        "\n",
        "    def print_cube(self):\n",
        "        for face in ['U', 'L', 'F', 'R', 'B', 'D']:\n",
        "            self.print_face(face)\n",
        "\n",
        "    def print_2d(self):\n",
        "\n",
        "        def format_face(face):\n",
        "            return [' '.join(row) for row in self.faces[face]]\n",
        "\n",
        "        U = format_face('U')\n",
        "        D = format_face('D')\n",
        "        F = format_face('F')\n",
        "        B = format_face('B')\n",
        "        L = format_face('L')\n",
        "        R = format_face('R')\n",
        "\n",
        "        # Print top (U)\n",
        "        for row in U:\n",
        "            print(' ' * 7 + row)\n",
        "        print(' ' * 7 + '-' * 5)\n",
        "\n",
        "        # Print middle row (L F R B)\n",
        "        for i in range(3):\n",
        "            print(f\"{L[i]}  {F[i]}  {R[i]}  {B[i]}\")\n",
        "\n",
        "        # Print bottom (D)\n",
        "        print(' ' * 7 + '-' * 5)\n",
        "        for row in D:\n",
        "            print(' ' * 7 + row)\n",
        "\n"
      ]
    },
    {
      "cell_type": "markdown",
      "source": [
        "```\n",
        "    [U]\n",
        "[L] [F] [R] [B]\n",
        "    [D]\n",
        "```"
      ],
      "metadata": {
        "id": "QIaB7kGRfdz2"
      }
    },
    {
      "cell_type": "code",
      "source": [
        "cube = Cubik_Rubik()\n",
        "cube.print_2d()\n",
        "\n",
        "cube.move_U()\n",
        "print(\"\\nAfter U move:\\n\")\n",
        "cube.print_2d()\n"
      ],
      "metadata": {
        "colab": {
          "base_uri": "https://localhost:8080/"
        },
        "id": "Jt9OtyDMd58y",
        "outputId": "cc2d26db-f653-47fd-879c-5c3e5bb4f77c"
      },
      "execution_count": null,
      "outputs": [
        {
          "output_type": "stream",
          "name": "stdout",
          "text": [
            "       W W W\n",
            "       W W W\n",
            "       W W W\n",
            "       -----\n",
            "O O O  G G G  R R R  B B B\n",
            "O O O  G G G  R R R  B B B\n",
            "O O O  G G G  R R R  B B B\n",
            "       -----\n",
            "       Y Y Y\n",
            "       Y Y Y\n",
            "       Y Y Y\n",
            "\n",
            "After U move:\n",
            "\n",
            "       W W W\n",
            "       W W W\n",
            "       W W W\n",
            "       -----\n",
            "G G G  R R R  B B B  O O O\n",
            "O O O  G G G  R R R  B B B\n",
            "O O O  G G G  R R R  B B B\n",
            "       -----\n",
            "       Y Y Y\n",
            "       Y Y Y\n",
            "       Y Y Y\n"
          ]
        }
      ]
    },
    {
      "cell_type": "code",
      "source": [
        "cube = Cubik_Rubik()\n",
        "print(\"The original:\\n\")\n",
        "cube.print_2d()\n",
        "\n",
        "cube.move_U()\n",
        "cube.move_F()\n",
        "cube.move_R()\n",
        "print(\"\\nAfter U, F, R moves:\\n\")\n",
        "cube.print_2d()\n",
        "\n",
        "cube.move_R_prime()\n",
        "cube.move_F_prime()\n",
        "cube.move_U_prime()\n",
        "print(\"\\nAfter U\\', F\\', R\\' moves:\\n\")\n",
        "cube.print_2d()"
      ],
      "metadata": {
        "colab": {
          "base_uri": "https://localhost:8080/"
        },
        "id": "QGll7Bp0iuRr",
        "outputId": "d1a20a31-7311-4878-baea-22b9638939ce"
      },
      "execution_count": null,
      "outputs": [
        {
          "output_type": "stream",
          "name": "stdout",
          "text": [
            "The original:\n",
            "\n",
            "       W W W\n",
            "       W W W\n",
            "       W W W\n",
            "       -----\n",
            "O O O  G G G  R R R  B B B\n",
            "O O O  G G G  R R R  B B B\n",
            "O O O  G G G  R R R  B B B\n",
            "       -----\n",
            "       Y Y Y\n",
            "       Y Y Y\n",
            "       Y Y Y\n",
            "\n",
            "After U, F, R moves:\n",
            "\n",
            "       W W R\n",
            "       W W R\n",
            "       O O R\n",
            "       -----\n",
            "G G Y  G G B  W W W  G O O\n",
            "O O Y  G G Y  R R B  W B B\n",
            "O O Y  G G Y  R R B  W B B\n",
            "       -----\n",
            "       R R B\n",
            "       Y Y B\n",
            "       Y Y O\n",
            "\n",
            "After U', F', R' moves:\n",
            "\n",
            "       W W W\n",
            "       W W W\n",
            "       W W W\n",
            "       -----\n",
            "O O O  G G G  R R R  B B B\n",
            "O O O  G G G  R R R  B B B\n",
            "O O O  G G G  R R R  B B B\n",
            "       -----\n",
            "       Y Y Y\n",
            "       Y Y Y\n",
            "       Y Y Y\n"
          ]
        }
      ]
    },
    {
      "cell_type": "code",
      "source": [
        "cube = Cubik_Rubik()\n",
        "cube.scramble()\n",
        "cube.print_2d()\n"
      ],
      "metadata": {
        "colab": {
          "base_uri": "https://localhost:8080/"
        },
        "id": "amIsgUygj2YZ",
        "outputId": "0c33498b-cff4-47eb-ad3d-198535515eed"
      },
      "execution_count": null,
      "outputs": [
        {
          "output_type": "stream",
          "name": "stdout",
          "text": [
            "       O O O\n",
            "       W W B\n",
            "       R W Y\n",
            "       -----\n",
            "Y O G  Y G B  R W W  B B B\n",
            "Y O O  G G B  R R R  W B B\n",
            "G O O  G G W  R R B  R Y W\n",
            "       -----\n",
            "       Y Y G\n",
            "       Y Y G\n",
            "       O R W\n"
          ]
        }
      ]
    }
  ],
  "metadata": {
    "colab": {
      "provenance": [],
      "toc_visible": true,
      "include_colab_link": true
    },
    "kernelspec": {
      "display_name": "Python 3",
      "name": "python3"
    },
    "language_info": {
      "codemirror_mode": {
        "name": "ipython",
        "version": 3
      },
      "file_extension": ".py",
      "mimetype": "text/x-python",
      "name": "python",
      "nbconvert_exporter": "python",
      "pygments_lexer": "ipython3",
      "version": "3.13.0"
    }
  },
  "nbformat": 4,
  "nbformat_minor": 0
}