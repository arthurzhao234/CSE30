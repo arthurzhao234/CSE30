{
  "cells": [
    {
      "cell_type": "markdown",
      "metadata": {
        "id": "view-in-github",
        "colab_type": "text"
      },
      "source": [
        "<a href=\"https://colab.research.google.com/github/arthurzhao234/CSE30/blob/main/NB1.ipynb\" target=\"_parent\"><img src=\"https://colab.research.google.com/assets/colab-badge.svg\" alt=\"Open In Colab\"/></a>"
      ]
    },
    {
      "cell_type": "markdown",
      "metadata": {
        "id": "MFtDaysDPs4q",
        "notebookgrader": {
          "id": "63294416ce8ca385be6eb0d03216390aeb852e96",
          "readonly": true
        }
      },
      "source": [
        "# Strings and Regular Expressions\n",
        "\n",
        "*by Dr. Larissa Munishkina, March, 2025*\n"
      ]
    },
    {
      "cell_type": "markdown",
      "metadata": {
        "id": "Yxp1vS6HMP9M",
        "notebookgrader": {
          "id": "4d6b0f3e075a32da963a0c32089648d878fe0fe3",
          "readonly": true
        }
      },
      "source": [
        "##Objectives\n",
        "The purpose of this notebook is to provide you with knowledge of using strings and regular expressions in text analysis and text-based applications.\n",
        "\n",
        "You will create:\n",
        "* a function that validates the user's email\n",
        "* a function `isfloat` that checks if a string can be converted into a float\n",
        "* a Caesar's cipher encoder-decoder\n",
        "* a hangman game (extra credit)"
      ]
    },
    {
      "cell_type": "markdown",
      "metadata": {
        "id": "LuyfaxBxPwKd",
        "notebookgrader": {
          "id": "7cc54426e341bc85fa71d89de87a00248e79227f",
          "readonly": true
        }
      },
      "source": [
        "##What is a String?"
      ]
    },
    {
      "cell_type": "markdown",
      "metadata": {
        "id": "6xTuMWYiP3T4",
        "notebookgrader": {
          "id": "865293794ab1591f2d837b88c23c940b8b94e14d",
          "readonly": true
        }
      },
      "source": [
        "A string literal is a sequence of characters enclosed in quotes, single quotes, double quotes, or triple quotes.\n",
        "\n",
        "We use a string literal to represent a string value."
      ]
    },
    {
      "cell_type": "code",
      "execution_count": null,
      "metadata": {
        "id": "RBBPGEN-REGW",
        "notebookgrader": {
          "id": "7c86ca58e11fbeb1e62f331718ebbc1e6411ffef",
          "is_solution": false,
          "is_tests": false,
          "readonly": true
        }
      },
      "outputs": [],
      "source": [
        "'a'       # a string literal enclosed in single quotes"
      ]
    },
    {
      "cell_type": "code",
      "execution_count": null,
      "metadata": {
        "id": "f9o5RcaQRSTl",
        "notebookgrader": {
          "id": "110b5e9da75dd3663a0bf93a8febd00c78ac5eb9",
          "is_solution": false,
          "is_tests": false,
          "readonly": true
        }
      },
      "outputs": [],
      "source": [
        "\"hello\"    # string literal enclosed in double quotes"
      ]
    },
    {
      "cell_type": "code",
      "execution_count": null,
      "metadata": {
        "id": "udgLOb2-RbYZ",
        "notebookgrader": {
          "id": "fb94ee69a0bba1bd6359d9a5422ff495afcbfaa2",
          "is_solution": false,
          "is_tests": false,
          "readonly": true
        }
      },
      "outputs": [],
      "source": [
        "# string literal enclosed in triple quotes\n",
        "\n",
        "'''I can have as many lines\n",
        "as I want in a string literal\n",
        "enclosed in triple quotes.'''"
      ]
    },
    {
      "cell_type": "markdown",
      "metadata": {
        "id": "o8r4uwA5RzYX",
        "notebookgrader": {
          "id": "1892dc918e6303ed0a531893c007224a39ed4174",
          "readonly": true
        }
      },
      "source": [
        "In programming, we store values in variables. We use assignment statements to assign values to variables.\n",
        "\n",
        "If we assign a string to a variable, we create a string variable."
      ]
    },
    {
      "cell_type": "code",
      "execution_count": null,
      "metadata": {
        "id": "BVoGDQtaSox0",
        "notebookgrader": {
          "id": "ea96f57045626c076c8c2d6d6cc5a5e60b48385a",
          "is_solution": false,
          "is_tests": false,
          "readonly": true
        }
      },
      "outputs": [],
      "source": [
        "char = '$'\n",
        "word = 'python'\n",
        "sentence = 'I love Python'\n",
        "paragraph = '''I can have as many lines\n",
        "as I want in a string literal\n",
        "enclosed in triple quotes'''"
      ]
    },
    {
      "cell_type": "markdown",
      "metadata": {
        "id": "OUXhd_4XTdRp",
        "notebookgrader": {
          "id": "2313d13abdbb2b27ad609229c09ec7132baeb05b",
          "readonly": true
        }
      },
      "source": [
        "We can check the variable type using the function `type`. The data type of strings is a string or str for short."
      ]
    },
    {
      "cell_type": "code",
      "execution_count": null,
      "metadata": {
        "id": "RBKxoELQTT1S",
        "notebookgrader": {
          "id": "4f144e7d9557152d045916b554d7f97756fb7566",
          "is_solution": false,
          "is_tests": false,
          "readonly": true
        }
      },
      "outputs": [],
      "source": [
        "type(char)"
      ]
    },
    {
      "cell_type": "code",
      "execution_count": null,
      "metadata": {
        "id": "vr0HA4rtTW6S",
        "notebookgrader": {
          "id": "d2c957248bf76ee3f9c93b14916c5bd5bc84fae1",
          "is_solution": false,
          "is_tests": false,
          "readonly": true
        }
      },
      "outputs": [],
      "source": [
        "type(paragraph)"
      ]
    },
    {
      "cell_type": "markdown",
      "metadata": {
        "id": "-J95EoudT6Tg",
        "notebookgrader": {
          "id": "8597476c6727a47a7ce6391d3e166238c2494c91",
          "readonly": true
        }
      },
      "source": [
        "As you may know, there is no difference of using double or single quotes with string literals.\n",
        "\n",
        "Only the usage of triple quotes is different -- we use them for string literals that are typed on several lines. Strings with triple quotes are used as docstrings to document code ([See Docstrings](https://peps.python.org/pep-0257/#what-is-a-docstring)).\n",
        "\n",
        "Also, you need to remember that surrounding quotes present in a string literal are not the parts of the string value -- they are used as delimiters (they indicate the boundary of the string literal) for parsing the code by the Python interpreter.\n",
        "\n",
        "For example, the string literal `'hello'` has the value `hello`.\n",
        "\n",
        " We can usually substitute single quotes with double quotes without affecting the code if the closed quote is the same as the open quote. However, in some cases, when we can combine single quotes with double quotes, it may affect the code."
      ]
    },
    {
      "cell_type": "code",
      "execution_count": null,
      "metadata": {
        "id": "ihQ7Z16HYY7h",
        "notebookgrader": {
          "id": "1ed7517ffa6398086ee4de0c5f4dd26477e8c5eb",
          "is_solution": false,
          "is_tests": false,
          "readonly": true
        }
      },
      "outputs": [],
      "source": [
        "print(\"Hello, John! What's up?\")"
      ]
    },
    {
      "cell_type": "markdown",
      "metadata": {
        "id": "W-GjJuybYlXA",
        "notebookgrader": {
          "id": "f84c67abf6b5ed921358aaecf6ef19b4f7554560",
          "readonly": true
        }
      },
      "source": [
        "If we substitute the double quotes with single quotes, we get an error."
      ]
    },
    {
      "cell_type": "code",
      "execution_count": null,
      "metadata": {
        "id": "y6IJxE2FY0xN",
        "notebookgrader": {
          "id": "d000a2506576f1c053b21a0e31902e33f137cf62",
          "is_solution": false,
          "is_tests": false,
          "readonly": true
        }
      },
      "outputs": [],
      "source": [
        "print('Hello, John! What's up?')"
      ]
    },
    {
      "cell_type": "markdown",
      "metadata": {
        "id": "hU4My2mGaq2E",
        "notebookgrader": {
          "id": "1052f3091e2dae8cd49d03e8ba302129ca38e075",
          "readonly": true
        }
      },
      "source": [
        "##Escape Sequences"
      ]
    },
    {
      "cell_type": "markdown",
      "metadata": {
        "id": "a5-TTO-WZMDL",
        "notebookgrader": {
          "id": "8a888396986301102e4743598bfb059350a6481a",
          "readonly": true
        }
      },
      "source": [
        "The issue with a string literal arises when the string literal has certain characters such as a quotation mark or apostrophe. To resolve this issue, we use the escape character `\\` called a backslash. When a backslash is combined with the characters in a string literal, it changes the meaning of some string characters.\n",
        "\n",
        "For example, a character `n` combined with a backslash forms a new character `\\n` called a newline, `t` combined with a backslash forms a tab `\\t`.\n",
        "\n",
        "We can use a backslash to create a string literal containing quotation marks and apostrophes.\n",
        "\n",
        "Let's check the following examples."
      ]
    },
    {
      "cell_type": "code",
      "execution_count": null,
      "metadata": {
        "id": "TM4mhW4xcOOs",
        "notebookgrader": {
          "id": "b0691d8fc0032652b5f5e245580d9e1078dad617",
          "is_solution": false,
          "is_tests": false,
          "readonly": true
        }
      },
      "outputs": [],
      "source": [
        "print('I can\\'t believe it!')"
      ]
    },
    {
      "cell_type": "code",
      "execution_count": null,
      "metadata": {
        "id": "9iVHXAg7cash",
        "notebookgrader": {
          "id": "352ad539f861dafe1752c6bd2352dfae44a0f725",
          "is_solution": false,
          "is_tests": false,
          "readonly": true
        }
      },
      "outputs": [],
      "source": [
        "print('We can create \\ta \\tstring \\tcontaining \\ttabs \\nand \\nnewlines.')"
      ]
    },
    {
      "cell_type": "code",
      "execution_count": null,
      "metadata": {
        "id": "n5A2MfKgdAQ_",
        "notebookgrader": {
          "id": "5efaacf5261db9d3f9a066655eafa4f102bba523",
          "is_solution": false,
          "is_tests": false,
          "readonly": true
        }
      },
      "outputs": [],
      "source": [
        "print('We can print a backslash: \\\\')"
      ]
    },
    {
      "cell_type": "markdown",
      "metadata": {
        "id": "BOkWNsksdVap",
        "notebookgrader": {
          "id": "f292acbeb92bf160e59d1b7452721e5075af135e",
          "readonly": true
        }
      },
      "source": [
        "A sequence that starts with a backslash and followed by a character is called an **escape sequence** that has a different meaning than characters by themselves."
      ]
    },
    {
      "cell_type": "code",
      "execution_count": null,
      "metadata": {
        "id": "dnz9E2stFEbe",
        "notebookgrader": {
          "id": "922faa91bb3f90111f0515a4a983b09ced45b5b3",
          "is_solution": false,
          "is_tests": false,
          "readonly": true
        }
      },
      "outputs": [],
      "source": [
        "print('\\n')"
      ]
    },
    {
      "cell_type": "code",
      "execution_count": null,
      "metadata": {
        "id": "MeErJUojhq3q",
        "notebookgrader": {
          "id": "87b0fb79d069a58a918db3ccdf157c9cccef79bc",
          "is_solution": false,
          "is_tests": false,
          "readonly": true
        }
      },
      "outputs": [],
      "source": [
        "s = '\\\\' + 'n'\n",
        "print(s)"
      ]
    },
    {
      "cell_type": "markdown",
      "metadata": {
        "id": "JJ8czjLEHrI2",
        "notebookgrader": {
          "id": "c7ade9f7bc02b252a338665b7c23769297476121",
          "readonly": true
        }
      },
      "source": [
        "Here are a few other examples that can be handy for designing an editor application."
      ]
    },
    {
      "cell_type": "code",
      "execution_count": null,
      "metadata": {
        "id": "hrtGRmmUGQBc",
        "notebookgrader": {
          "id": "4efa567f58ecb46703bc3f28fbb09dc95efabb4b",
          "is_solution": false,
          "is_tests": false,
          "readonly": true
        }
      },
      "outputs": [],
      "source": [
        "print('this is not printed\\rthis is printed')"
      ]
    },
    {
      "cell_type": "code",
      "execution_count": null,
      "metadata": {
        "id": "CEgu4hS4Gnyv",
        "notebookgrader": {
          "id": "ad801b112b210acfcfba2a2686e1d5a6b9d9bfac",
          "is_solution": false,
          "is_tests": false,
          "readonly": true
        }
      },
      "outputs": [],
      "source": [
        "print('we can fix the type\\bo')"
      ]
    },
    {
      "cell_type": "code",
      "execution_count": null,
      "metadata": {
        "id": "i5q7Oo2_G_Pv",
        "notebookgrader": {
          "id": "2dbe041b077387ccb26d8e704024ed880c816311",
          "is_solution": false,
          "is_tests": false,
          "readonly": true
        }
      },
      "outputs": [],
      "source": [
        "word = 'dogz'\n",
        "print(word + '\\bs')"
      ]
    },
    {
      "cell_type": "markdown",
      "metadata": {
        "id": "9gQBj2xjOMQH",
        "notebookgrader": {
          "id": "9e222b763edf4ebdb9669e2d906cb5cb5d8f992f",
          "readonly": true
        }
      },
      "source": [
        "##Print and Stdout"
      ]
    },
    {
      "cell_type": "markdown",
      "metadata": {
        "id": "XvZEoHQkIbnG",
        "notebookgrader": {
          "id": "07f4aadb95b291931f03995c6e2b7c45648e6ba3",
          "readonly": true
        }
      },
      "source": [
        "In the code above, we used the `print` function that allows us to visualize data. You may recall that the `print` function outputs data to the screen that is called the `stdout` that stands for the standard output.\n",
        "\n",
        "On the screen, we see pixels of images called **glyphs** that represent characters. We cannot output any other images to the stdout, only images of string characters including spaces, tabs, and newlines.\n",
        "\n",
        "To visualize regular images, we need to use applications with a GUI (**G**raphical **U**ser **I**nterface) window.\n",
        "\n",
        "We use the `print` function to display data on the screen in a special window called the terminal. The terminal, also called the console, now refers to a special GUI window used within IDEs and shells.\n",
        "\n",
        "In early days of computer science, terminals and consoles were stations that had only two devices, a screen and a keyboard. These stations were attached by wires to the mainframe computer and used to receive from and send data to the mainframe.\n",
        "\n",
        "When we use the `print` function to output data to the terminal window, data are converted to a string. For example, integers are converted into a sequence of digits (string characters), Booleans are converted into strings 'True' or 'False', etc.\n",
        "\n"
      ]
    },
    {
      "cell_type": "markdown",
      "metadata": {
        "id": "RbIL8oE_OYJj",
        "notebookgrader": {
          "id": "3a165765b1a0c30ef03cc5f7f2a0b4c6ef87da8c",
          "readonly": true
        }
      },
      "source": [
        "##Indexing and Slicing Operations"
      ]
    },
    {
      "cell_type": "markdown",
      "metadata": {
        "id": "8ZElkoEwOsn6",
        "notebookgrader": {
          "id": "8860a8f965be2caf20cb3592b28c73d230d4eafa",
          "readonly": true
        }
      },
      "source": [
        "Strings are sequences of characters and stored in memory as arrays of characters.\n",
        "\n",
        "An ***array*** is a sequence of elements, where each element has its index. An index is an integer that corresponds to the position of the element within the sequence. For example, in the sequence [1, 2, 3], the element 1 has index 0, 2 -- index 1, and 3 -- index 2. We usually start indexing elements from 0.\n",
        "\n",
        "In the sequence `python`, the first element has index 0, the second element -- 1, and so on.\n",
        "\n",
        "We can retrieve an element from an array using an indexing operation, which involves placing an index inside square brackets."
      ]
    },
    {
      "cell_type": "code",
      "execution_count": null,
      "metadata": {
        "id": "ZxF3hQ5dPs9s",
        "notebookgrader": {
          "id": "4c9c063f85df215391b6c034d6e80c6d76b671e6",
          "is_solution": false,
          "is_tests": false,
          "readonly": true
        }
      },
      "outputs": [],
      "source": [
        "s = 'python'\n",
        "s[0]  # this is an indexing operation"
      ]
    },
    {
      "cell_type": "markdown",
      "metadata": {
        "id": "YOUH-OSJR3Mk",
        "notebookgrader": {
          "id": "9d51b060a8c9872813e25ce9470acc9fee5755fb",
          "readonly": true
        }
      },
      "source": [
        "We can use the `len` function to determine how many elements are in a string and use that value to iterate over all its characters."
      ]
    },
    {
      "cell_type": "code",
      "execution_count": null,
      "metadata": {
        "id": "IaNuPNxeRo3U",
        "notebookgrader": {
          "id": "af78cbd9247c887e3bfc5ccde2c9a1d604ba4af4",
          "is_solution": false,
          "is_tests": false,
          "readonly": true
        }
      },
      "outputs": [],
      "source": [
        "for i in range(len(s)):\n",
        "  print(s[i])"
      ]
    },
    {
      "cell_type": "markdown",
      "metadata": {
        "id": "noVqUCQASiem",
        "notebookgrader": {
          "id": "4276f8a5b89e3af929cc0ccc514c1dd781ccf727",
          "readonly": true
        }
      },
      "source": [
        "In addition to the positive indexes used above, we can also use negative indexes. The last character in a string has the index $-1$, the second-to-last is $-2$, and so on. The first character can be accessed using the negative index `-len(s)`, where `s` is the string."
      ]
    },
    {
      "cell_type": "code",
      "execution_count": null,
      "metadata": {
        "id": "tNoQ3G5eTZkL",
        "notebookgrader": {
          "id": "0bab865a3791f92e522aa719d8eab07496ebfa00",
          "is_solution": false,
          "is_tests": false,
          "readonly": true
        }
      },
      "outputs": [],
      "source": [
        "for i in range(-1, -len(s) - 1, -1):\n",
        "    print(s[i])"
      ]
    },
    {
      "cell_type": "markdown",
      "metadata": {
        "id": "AU8NHdlBT8DP",
        "notebookgrader": {
          "id": "d177c2a5e2602ba9ec1e712f1217e9d5fe3ebf97",
          "readonly": true
        }
      },
      "source": [
        "In addition to indexing, we can use slicing to access parts of a string. Both indexing and slicing operations return new strings.\n",
        "\n",
        "A slicing operation uses square brackets with up to three integers — start, stop, and step — separated by colons `:`."
      ]
    },
    {
      "cell_type": "code",
      "execution_count": null,
      "metadata": {
        "id": "UGoIZaQEVV1I",
        "notebookgrader": {
          "id": "d78cbc3ee502903c265acc688b5c6958cd7f764d",
          "is_solution": false,
          "is_tests": false,
          "readonly": true
        }
      },
      "outputs": [],
      "source": [
        "s = 'hello world'\n",
        "s[0:5:1]"
      ]
    },
    {
      "cell_type": "code",
      "execution_count": null,
      "metadata": {
        "id": "OntBa4z9dqVH",
        "notebookgrader": {
          "id": "d2c9867b6320b10432b1b97ee285e308c1d44a1a",
          "is_solution": false,
          "is_tests": false,
          "readonly": true
        }
      },
      "outputs": [],
      "source": [
        "s[6:11]"
      ]
    },
    {
      "cell_type": "markdown",
      "metadata": {
        "id": "iwMlovgwVlwN",
        "notebookgrader": {
          "id": "fe27419317881dcf1abf2c38b8991cff0429b149",
          "readonly": true
        }
      },
      "source": [
        "We can extract various substrings from a given string using slicing. For example, we can reverse a string."
      ]
    },
    {
      "cell_type": "code",
      "execution_count": null,
      "metadata": {
        "id": "wvldVjomdSXD",
        "notebookgrader": {
          "id": "f3b2de98c34704c908d1edf8e2f520d438f05be8",
          "is_solution": false,
          "is_tests": false,
          "readonly": true
        }
      },
      "outputs": [],
      "source": [
        "s[::-1]"
      ]
    },
    {
      "cell_type": "markdown",
      "metadata": {
        "id": "5A67XNIQhtLE",
        "notebookgrader": {
          "id": "55ca981196a55e784ee8a575ade4ff34424fd71b",
          "readonly": true
        }
      },
      "source": [
        "We can retrieve characters at even indexes."
      ]
    },
    {
      "cell_type": "code",
      "execution_count": null,
      "metadata": {
        "id": "xVpQd1KIh2i-",
        "notebookgrader": {
          "id": "1929d1926fbdef0a7fbcc204648822f694ea4671",
          "is_solution": false,
          "is_tests": false,
          "readonly": true
        }
      },
      "outputs": [],
      "source": [
        "n = '123456'\n",
        "n[::2]"
      ]
    },
    {
      "cell_type": "markdown",
      "metadata": {
        "id": "ojE3oXdzdZUL",
        "notebookgrader": {
          "id": "584616a2f32f44f9153226389a986a569aa10adf",
          "readonly": true
        }
      },
      "source": [
        "As you may notice, we can omit the start, stop, step, or even the colons in a slicing operation. When omitted, default values are used.\n",
        "\n",
        "* If step is not specified, it defaults to $1$.\n",
        "* If start is not specified, it defaults to 0 when step is positive, and $-1$ when step is negative.\n",
        "* If stop is not specified, it defaults to the end of the string `len(s)` when step is positive, and to `-len(s) - 1` when step is negative.\""
      ]
    },
    {
      "cell_type": "code",
      "execution_count": null,
      "metadata": {
        "id": "ATQEvThwhiK4",
        "notebookgrader": {
          "id": "7d122f9194770bc356b425bf2631ed05017e4539",
          "is_solution": false,
          "is_tests": false,
          "readonly": true
        }
      },
      "outputs": [],
      "source": [
        "s[::-1]"
      ]
    },
    {
      "cell_type": "code",
      "execution_count": null,
      "metadata": {
        "id": "ko6cvc7HgTwk",
        "notebookgrader": {
          "id": "a7e5d554bcec4fa78ce53c4776243d35e97d98a0",
          "is_solution": false,
          "is_tests": false,
          "readonly": true
        }
      },
      "outputs": [],
      "source": [
        "s[-1: -len(s)-1: -1]"
      ]
    },
    {
      "cell_type": "code",
      "execution_count": null,
      "metadata": {
        "id": "p2R36hn1hfdy",
        "notebookgrader": {
          "id": "3c5d7d9cf1e321983e93cc321299d1ce81fecbc9",
          "is_solution": false,
          "is_tests": false,
          "readonly": true
        }
      },
      "outputs": [],
      "source": [
        "s[:]"
      ]
    },
    {
      "cell_type": "code",
      "execution_count": null,
      "metadata": {
        "id": "QBbi5-7lgixl",
        "notebookgrader": {
          "id": "59d482b5a046af660df47f6c8433374c7705897d",
          "is_solution": false,
          "is_tests": false,
          "readonly": true
        }
      },
      "outputs": [],
      "source": [
        "s[0: len(s): 1]"
      ]
    },
    {
      "cell_type": "markdown",
      "metadata": {
        "id": "Zbj3yCRBiK_A",
        "notebookgrader": {
          "id": "513c78137dd38bf957214d40fd12d692d655fbd9",
          "readonly": true
        }
      },
      "source": [
        "##String Concatenation and Formatting"
      ]
    },
    {
      "cell_type": "markdown",
      "metadata": {
        "id": "EqTX3NJKiU3U",
        "notebookgrader": {
          "id": "c7116f846115c7391b862b4234a56b493aa12a6e",
          "readonly": true
        }
      },
      "source": [
        "We can concatenate strings using the + operator, which acts as a concatenation operator when both operands are strings.\n",
        "\n",
        "Note that `+` is overloaded in Python, meaning its behavior depends on the types of its operands. For strings, it performs concatenation.\n",
        "\n",
        "Concatenation is a binary operation on two strings, $a$ and $b$, that produces a new string $c$, formed by appending $b$ to $a$:\n",
        "\n",
        "$c = ab$\n",
        "\n"
      ]
    },
    {
      "cell_type": "code",
      "execution_count": null,
      "metadata": {
        "id": "trmBYBDNiTD2",
        "notebookgrader": {
          "id": "47f690ac1be675db6ea0c8537d37d1647935d73f",
          "is_solution": false,
          "is_tests": false,
          "readonly": true
        }
      },
      "outputs": [],
      "source": [
        "s1 = 'Hello'\n",
        "s2 = 'world'\n",
        "s1 + s2"
      ]
    },
    {
      "cell_type": "markdown",
      "metadata": {
        "id": "gUeoFEK4kKX4",
        "notebookgrader": {
          "id": "b5aa6b07947370c4c4dd8511bcd819d99203d97a",
          "readonly": true
        }
      },
      "source": [
        "We can concatenate as many strings as we want."
      ]
    },
    {
      "cell_type": "code",
      "execution_count": null,
      "metadata": {
        "id": "qUhp7bNgj5Ph",
        "notebookgrader": {
          "id": "1ef31089999a7e780e0fa9029d2e672e94e759f6",
          "is_solution": false,
          "is_tests": false,
          "readonly": true
        }
      },
      "outputs": [],
      "source": [
        "s1 + ' ' + s2 + '!'"
      ]
    },
    {
      "cell_type": "markdown",
      "metadata": {
        "id": "hJqdwDXUk_0g",
        "notebookgrader": {
          "id": "51e056882d4ddebbf458236969d64498c099eba1",
          "readonly": true
        }
      },
      "source": [
        "In addition to the `+` operator, we can use the asterisk `*` to perform repeated string concatenation. This requires an integer to specify how many times the string should be repeated.\n",
        "\n",
        "When used this way, the `*` operator is called the repetition operator, as it creates a new string by repeating the original one multiple times."
      ]
    },
    {
      "cell_type": "code",
      "execution_count": null,
      "metadata": {
        "id": "AOB6HZGYl_Mu",
        "notebookgrader": {
          "id": "cb40c8307a8e03af14d98f29fa5348f42987a45c",
          "is_solution": false,
          "is_tests": false,
          "readonly": true
        }
      },
      "outputs": [],
      "source": [
        "'=' * 10"
      ]
    },
    {
      "cell_type": "code",
      "execution_count": null,
      "metadata": {
        "id": "SSd5_wn7mNm7",
        "notebookgrader": {
          "id": "1c22e82c59a45aafb1c164f820597ed5aa660b1b",
          "is_solution": false,
          "is_tests": false,
          "readonly": true
        }
      },
      "outputs": [],
      "source": [
        "'hello ' * 5"
      ]
    },
    {
      "cell_type": "code",
      "execution_count": null,
      "metadata": {
        "id": "VTWMbGp14sSS",
        "notebookgrader": {
          "id": "78eb9656d8b9df18fd6a3761dae0d3d9663f0dba",
          "is_solution": false,
          "is_tests": false,
          "readonly": true
        }
      },
      "outputs": [],
      "source": [
        "5 * 'hi'"
      ]
    },
    {
      "cell_type": "markdown",
      "metadata": {
        "id": "Q7jLVaGUkXNT",
        "notebookgrader": {
          "id": "0a5cbbd9b6fcafd7cc6c66f9e1639d57ebbaa914",
          "readonly": true
        }
      },
      "source": [
        "Often, we need to combine literal strings, variables (string, integers, floats, Booleans), and function calls in one string that we may use for data processing, printing, streaming, or storing.\n",
        "\n",
        "We can format strings in various ways applying the following constructs or operations:\n",
        "\n",
        "* f-strings\n",
        "* string method format\n",
        "* function format\n",
        "* alignment operators\n",
        "* % operators\n",
        "* concatenation"
      ]
    },
    {
      "cell_type": "markdown",
      "metadata": {
        "id": "IvGlVH9RoW4g",
        "notebookgrader": {
          "id": "60a818b1c1c97c05ddabe27836fdd3cfa66ee54f",
          "readonly": true
        }
      },
      "source": [
        "Let's define some variables and functions and use them to form one string."
      ]
    },
    {
      "cell_type": "code",
      "execution_count": null,
      "metadata": {
        "id": "zYa9dLdfoWIL",
        "notebookgrader": {
          "id": "3721499e742b05c692af64404772647567e2d24b",
          "is_solution": false,
          "is_tests": false,
          "readonly": true
        }
      },
      "outputs": [],
      "source": [
        "def add(a, b):\n",
        "    return a + b\n",
        "\n",
        "x = 10\n",
        "y = 20\n",
        "op = 'sum'"
      ]
    },
    {
      "cell_type": "markdown",
      "metadata": {
        "id": "2EHG2vOVvefx",
        "notebookgrader": {
          "id": "706494d0e4e2f160803740c30f1846687f25b7c1",
          "readonly": true
        }
      },
      "source": [
        "In f-strings, we prefix the string with **f** and use curly braces **{}** to embed variables and function calls. Although the f-string is written with placeholders, it is evaluated at runtime, where all variables and function calls are replaced with their actual values."
      ]
    },
    {
      "cell_type": "code",
      "execution_count": null,
      "metadata": {
        "id": "1_846FC1mftF",
        "notebookgrader": {
          "id": "78993dbb3a3ebd175af4e26005085e5101d57573",
          "is_solution": false,
          "is_tests": false,
          "readonly": true
        }
      },
      "outputs": [],
      "source": [
        "#@title f-string\n",
        "\n",
        "f'The {op} of {x} and {y} is {add(x, y)}.'"
      ]
    },
    {
      "cell_type": "markdown",
      "metadata": {
        "id": "ijH_eB_hwhFZ",
        "notebookgrader": {
          "id": "8c122210433181aa235831b19f54077f6f8586ad",
          "readonly": true
        }
      },
      "source": [
        "The `format` string method works similarly to f-strings. We use curly braces {} as placeholders to embed variable values or function calls. However, with `format`, the actual variables and function calls are placed inside the method's parentheses, not directly in the string."
      ]
    },
    {
      "cell_type": "code",
      "execution_count": null,
      "metadata": {
        "id": "ioghJdpEpez0",
        "notebookgrader": {
          "id": "9acdc61f0fead50d06a3f92eac14d3626987b437",
          "is_solution": false,
          "is_tests": false,
          "readonly": true
        }
      },
      "outputs": [],
      "source": [
        "#@title the format method\n",
        "\n",
        "'The {} of x and y is {}.'.format(op, add(x, y))"
      ]
    },
    {
      "cell_type": "markdown",
      "metadata": {
        "id": "OfPIbUQzxqYY",
        "notebookgrader": {
          "id": "0b59500160718fee66a6b3631ff1fa71cf3789b2",
          "readonly": true
        }
      },
      "source": [
        "The built-in `format` function is different from the string method `format`. While both can be used for formatting, the `format` function typically takes two arguments: a format string and a value to format. It's often used for formatting numbers, dates, or other objects according to a specified format.\n",
        "\n",
        "For example, we can use the following operators for aligning:\n",
        "* `>` align to the right\n",
        "* `<` align to the left\n",
        "* `^` align at the center\n",
        "\n",
        "We can convert numbers into decimal, binary, octal, hexadecimal, scientific, and float string representation:\n",
        "\n",
        "* d decimal\n",
        "* o octal\n",
        "* h hexadecimal\n",
        "* e scientific\n",
        "* f float\n",
        "\n",
        "We use numbers (like $15$ in the example below) to specify the width of the formatted string. A sequence consisting of a dot followed by a number (such as $.2)$ is used specifically for floating-point numbers to indicate decimal precision — that is, how many digits should appear after the decimal point."
      ]
    },
    {
      "cell_type": "code",
      "execution_count": null,
      "metadata": {
        "id": "4b538itdqDZ6",
        "notebookgrader": {
          "id": "04a1752c61084371b4e090c1bb5b13b1c4732255",
          "is_solution": false,
          "is_tests": false,
          "readonly": true
        }
      },
      "outputs": [],
      "source": [
        "#@title the format function\n",
        "\n",
        "print('decimal notation    ', format(123, '>15d'))\n",
        "print('binary notation     ', format(123, '>15b'))\n",
        "print('octal notation      ', format(123, '>15o'))\n",
        "print('hexadecimal notation', format(123, '>15x'))\n",
        "print('scientific notation ', format(123.456, '>15e'))\n",
        "print('float notation      ', format(123.456, '>15.2f'))\n"
      ]
    },
    {
      "cell_type": "markdown",
      "metadata": {
        "id": "1eOoHG8X4Wqr",
        "notebookgrader": {
          "id": "bd04cf60ca997fe543e8155c79e418299477f324",
          "readonly": true
        }
      },
      "source": [
        "We can use alignment and float precision with both f-strings and the `format` method."
      ]
    },
    {
      "cell_type": "code",
      "execution_count": null,
      "metadata": {
        "id": "mWn29IG64r0x",
        "notebookgrader": {
          "id": "c39843d44e627077f24cb845f16792014502166d",
          "is_solution": false,
          "is_tests": false,
          "readonly": true
        }
      },
      "outputs": [],
      "source": [
        "w = 'hello'\n",
        "f'{w:.>15}'"
      ]
    },
    {
      "cell_type": "code",
      "execution_count": null,
      "metadata": {
        "id": "nr_i3Zay5zwx",
        "notebookgrader": {
          "id": "06ad0e9ab6c04f9052a0504323b23b2285b96294",
          "is_solution": false,
          "is_tests": false,
          "readonly": true
        }
      },
      "outputs": [],
      "source": [
        "number = 123.456789\n",
        "formatted_string = \"The number is {:.2f}\".format(number)\n",
        "print(formatted_string)"
      ]
    },
    {
      "cell_type": "markdown",
      "metadata": {
        "id": "L9SO5pwZ2W9r",
        "notebookgrader": {
          "id": "4766b4749e63c08ecfcf22de32f7074cdc0a3581",
          "readonly": true
        }
      },
      "source": [
        "In earlier versions of Python, such as 2.x, string formatting was commonly done using the `%` operator. This style is still supported in Python 3.x.\n",
        "\n",
        "Common format specifiers include:\n",
        "\n",
        "* `%s` for strings\n",
        "* `%d` for integers\n",
        "* `%f` for floating-point numbers\n",
        "* `%x` for hexadecimal values\n",
        "\n",
        "In the following example, `%s` is used for the string variable name, and `%d` is used for the integer variable age."
      ]
    },
    {
      "cell_type": "code",
      "execution_count": null,
      "metadata": {
        "id": "wXAkVVfY259S",
        "notebookgrader": {
          "id": "f4c6fc3709fac4b3505ea327949296a9169368cb",
          "is_solution": false,
          "is_tests": false,
          "readonly": true
        },
        "colab": {
          "base_uri": "https://localhost:8080/"
        },
        "outputId": "41e0dedc-8197-485d-e442-00295c767852"
      },
      "outputs": [
        {
          "output_type": "stream",
          "name": "stdout",
          "text": [
            "My name is Alice, and I am 20 years old.\n"
          ]
        }
      ],
      "source": [
        "#@title string formatting operator %\n",
        "name = \"Alice\"\n",
        "age = 20\n",
        "sentence = \"My name is %s, and I am %d years old.\" % (name, age)\n",
        "print(sentence)"
      ]
    },
    {
      "cell_type": "markdown",
      "metadata": {
        "id": "Hmqy6ahX7pvs",
        "notebookgrader": {
          "id": "2e14585db5c1741a1839ee4889481d47ebbbaf80",
          "readonly": true
        }
      },
      "source": [
        "##Regular Expressions"
      ]
    },
    {
      "cell_type": "markdown",
      "metadata": {
        "id": "lfMpKtTY0CWh",
        "notebookgrader": {
          "id": "dd7ee8418ed1e5bc2017e2ac83e24ca25309425d",
          "readonly": true
        }
      },
      "source": [
        "Regular expressions (often abbreviated as RE or regex) are used to search strings for specific patterns. A pattern is typically a string composed of defined character sequences (see [Regular Expressions](https://docs.python.org/3/howto/regex.html)).\n",
        "\n",
        "For example, a pattern that matches a sequence of digits can be written as \\d+, where \\d represents any digit (0-9), and + is a repetition operator that allows one or more occurrences. This pattern can be used to find integers within text.\n",
        "\n",
        "Another common pattern is a word. In computer science, a word is defined as a combination of letters, digits, and underscores. In regex, this can be expressed as \\w+, where \\w matches any alphanumeric character or underscore, and + again allows repetition. This pattern is useful for identifying words in a string.\n",
        "\n",
        "A regular expression is a sequence of characters and special symbols (such as \\d, \\W, \\w, etc.) combined with literals (*, ., +, A, 1, -, etc.) to define a search pattern. These expressions describe strings that belong to a regular language and are processed by a finite automaton — a type of state machine that can be implemented in code. Using finite automata for pattern matching is both fast and efficient."
      ]
    },
    {
      "cell_type": "code",
      "execution_count": null,
      "metadata": {
        "id": "Q6nEDpC72ZbM",
        "notebookgrader": {
          "id": "0699ab0305669f0bad8f6115f1faf0bb7febdb7b",
          "is_solution": false,
          "is_tests": false,
          "readonly": true
        },
        "colab": {
          "base_uri": "https://localhost:8080/"
        },
        "outputId": "b8ff9ba4-dc1c-40c7-c63a-95b2deb2637a"
      },
      "outputs": [
        {
          "output_type": "stream",
          "name": "stdout",
          "text": [
            "['5005', '234']\n"
          ]
        }
      ],
      "source": [
        "#@title Finding numbers\n",
        "import re\n",
        "pattern = re.compile(r'\\d+') # finds numbers in the text\n",
        "matches = pattern.findall('5005 students and 234 teachers')\n",
        "print(matches)"
      ]
    },
    {
      "cell_type": "markdown",
      "metadata": {
        "id": "VHr1TNEq-mDq",
        "notebookgrader": {
          "id": "51a66e692d24d7d4356d7893e60010681a4e8626",
          "readonly": true
        }
      },
      "source": [
        "The same code snippet can be written in a different way without using `compile`."
      ]
    },
    {
      "cell_type": "code",
      "execution_count": null,
      "metadata": {
        "id": "TFT8OnZH-VAP",
        "notebookgrader": {
          "id": "e7fec0ebfb796a35602b78feca5a59c5c6d7f523",
          "is_solution": false,
          "is_tests": false,
          "readonly": true
        },
        "colab": {
          "base_uri": "https://localhost:8080/"
        },
        "outputId": "c1b0e737-7273-40e5-d391-a1d93df034ff"
      },
      "outputs": [
        {
          "output_type": "stream",
          "name": "stdout",
          "text": [
            "['5005', '234']\n"
          ]
        }
      ],
      "source": [
        "import re\n",
        "matches = re.findall(r'\\d+', '5005 students and 234 teachers')\n",
        "print(matches)"
      ]
    },
    {
      "cell_type": "code",
      "execution_count": null,
      "metadata": {
        "id": "LIdTwu2e2221",
        "notebookgrader": {
          "id": "659428f94e3f69f8a30384792375b141cb090d4d",
          "is_solution": false,
          "is_tests": false,
          "readonly": true
        },
        "colab": {
          "base_uri": "https://localhost:8080/"
        },
        "outputId": "f7bdf291-12f2-4e0e-88c4-b926463d1e31"
      },
      "outputs": [
        {
          "output_type": "stream",
          "name": "stdout",
          "text": [
            "['Hello', '007', 'First', 'Line', 'Second', 'Line', 'Third', 'Line']\n"
          ]
        }
      ],
      "source": [
        "#@title Finding words\n",
        "import re\n",
        "text = 'Hello, 007! First Line.\\nSecond Line\\nThird Line.'\n",
        "#print(text)\n",
        "pattern = re.compile(r'\\w+') # finds words in the text\n",
        "matches = pattern.findall(text)\n",
        "print(matches)"
      ]
    },
    {
      "cell_type": "code",
      "execution_count": null,
      "metadata": {
        "id": "9qluZ5QA8Uxb",
        "notebookgrader": {
          "id": "98cb87bdd0d7d0a863cf367ea01d102eaeda4682",
          "is_solution": false,
          "is_tests": false,
          "readonly": true
        },
        "colab": {
          "base_uri": "https://localhost:8080/"
        },
        "outputId": "fc8d961b-d2b4-4f51-95f8-4024980dd2d1"
      },
      "outputs": [
        {
          "output_type": "stream",
          "name": "stdout",
          "text": [
            "Enter an identifier: #272@\n",
            "It is not a valid identifier.\n"
          ]
        }
      ],
      "source": [
        "#@title Validating identifiers\n",
        "import re\n",
        "pattern = re.compile ( r'^[A-Za-z_]\\w*$' )\n",
        "\n",
        "identifier = input(\"Enter an identifier: \")\n",
        "match = pattern.search(identifier)\n",
        "if match :\n",
        "    print(\"It is a valid identifier.\")\n",
        "else :\n",
        "    print(\"It is not a valid identifier.\")\n"
      ]
    },
    {
      "cell_type": "code",
      "execution_count": null,
      "metadata": {
        "id": "Sufh3LEg81wq",
        "notebookgrader": {
          "id": "a02d96f2b3cf9e4852f25fd1a9fdbca3ae3797d4",
          "is_solution": false,
          "is_tests": false,
          "readonly": true
        }
      },
      "outputs": [],
      "source": [
        "#@title Validating a password\n",
        "import re\n",
        "p_upper = re.compile(r'[A-Z]')\n",
        "p_lower = re.compile(r'[a-z]')\n",
        "p_digit = re.compile(r'[0-9]')\n",
        "p_symbol = re.compile(r'[@#$%&?! ]')\n",
        "while True :\n",
        "    password = input(\"Enter a password: \")\n",
        "    m_lower = p_lower.search(password)\n",
        "    m_upper = p_upper.search(password)\n",
        "    m_digit = p_digit.search(password)\n",
        "    m_symbol = p_symbol.search(password)\n",
        "\n",
        "    if not m_lower :\n",
        "        print (\"You need to use a lowercase letter.\")\n",
        "        continue\n",
        "    if not m_upper :\n",
        "        print (\"You need to use an uppercase letter.\")\n",
        "        continue\n",
        "    if not m_digit :\n",
        "        print (\"You need to use a digit.\")\n",
        "        continue\n",
        "    if not m_symbol :\n",
        "        print (\"You need to use a special character.\")\n",
        "        continue\n",
        "    break\n",
        "print('Your password is created successfully!')"
      ]
    },
    {
      "cell_type": "code",
      "execution_count": null,
      "metadata": {
        "id": "Sce-xuAN-z5g",
        "notebookgrader": {
          "id": "c3fea6a8e0d0eb86badf994391275993fb10a1f6",
          "is_solution": false,
          "is_tests": false,
          "readonly": true
        }
      },
      "outputs": [],
      "source": [
        "#@title Finding phone numbers\n",
        "import re\n",
        "p = re.compile(r'\\(?\\d{3}\\)?-?\\d{3}-?\\d{4}')\n",
        "while True :\n",
        "    text = input(\"Enter text with phone numbers: \")\n",
        "    m1 = p.search(text)\n",
        "    if m1 :\n",
        "        print (\"Search group: \", m1.group())\n",
        "    else :\n",
        "        print (\"Search: no number\")\n",
        "        continue\n",
        "    m2 = p.findall(text)\n",
        "    print (\"Findall: \", m2)\n",
        "    for m in m2 :\n",
        "        print (\"Findall group: \", m)\n",
        "    m3 = p.match(text)\n",
        "    if m3 :\n",
        "        print (\"Match: \", m3.group())\n",
        "    else :\n",
        "        print (\"Match: no match\")\n",
        "    break"
      ]
    },
    {
      "cell_type": "markdown",
      "metadata": {
        "id": "GqCMckeBlI-a",
        "notebookgrader": {
          "id": "730e18f449d791af6448f0741b44697af3834588",
          "readonly": true
        }
      },
      "source": [
        "##Instructions"
      ]
    },
    {
      "cell_type": "markdown",
      "metadata": {
        "id": "Q4xqrPYxkaVR",
        "notebookgrader": {
          "id": "02268eaead095ba777fd694e8dc7ef5eb0a51231",
          "readonly": true
        }
      },
      "source": [
        "Instructions of using notebooks are from Prof. Luca de Alfaro\n",
        "\n",
        "Copyright Luca de Alfaro, 2019-20. License: CC-BY-NC-ND."
      ]
    },
    {
      "cell_type": "markdown",
      "metadata": {
        "id": "jsH0SRj5lQdi",
        "notebookgrader": {
          "id": "7da3f4326c97380d402376ad725cf98435a7d93b",
          "readonly": true
        }
      },
      "source": [
        "### Notebook format\n",
        "\n",
        "For each question in this notebook, there is:\n",
        "\n",
        "* A text description of the problem.\n",
        "* One or more places where you have to insert your solution.  You need to complete every place marked:\n",
        "\n",
        "    `# YOUR SOLUTION HERE`\n",
        "    \n",
        "    and you should not modify any other place.\n",
        "* One or more test cells.  Each cell is worth some number of points, marked at the top.  You should not modify these tests cells.  The tests pass if no error is printed out: when there is a statement that says, for instance:\n",
        "\n",
        "    `assert x == 2`\n",
        "    \n",
        "    then the test passes if `x` has value 2, and fails otherwise.\n",
        "     \n",
        "* You can debug your work by placing `print()` or other statements in the cell marked\n",
        "\n",
        "    `# YOUR OPTIONAL TESTS HERE`  \n",
        "\n",
        "    and make sure your optional tests work with the rest of the code."
      ]
    },
    {
      "cell_type": "markdown",
      "metadata": {
        "id": "FyaAOzfHlcR_",
        "notebookgrader": {
          "id": "746dd99f98c96096c9425f19d23aba78f5d4347b",
          "readonly": true
        }
      },
      "source": [
        "### Notes\n",
        "\n",
        "* Your code will be tested both according to the tests you can see (the `assert` statements you can see), _and_ additional tests.  This prevents you from hard-coding the answer to the particular questions posed.  Your code should solve the _general_ intended case, not hard-code the particular answer for the values used in the tests.\n",
        "\n",
        "* **Please do not delete or add cells!** The test is autograded, and if you modify the test by adding or deleting cells, even if you re-add cells you delete, you may not receive credit.\n",
        "\n",
        "* **Please do not import modules that are not part of the [standard library](https://docs.python.org/3/library/index.html).** You do not need any, and they will likely not available in the grading environment, leading your code to fail.\n",
        "\n",
        "* **If you are inactive too long, your notebook might get disconnected from the back-end.** Your work is never lost, but you have to re-run all the cells before you continue.\n",
        "\n",
        "* You can write out print statements in your code, to help you test/debug it. But remember: the code is graded on the basis of what it outputs or returns, not on the basis of what it prints.\n",
        "\n",
        "* **TAs and tutors have access to this notebook,** so if you let them know you need their help, they can look at your work and give you advice."
      ]
    },
    {
      "cell_type": "markdown",
      "metadata": {
        "id": "wNa7RRnUlmZf",
        "notebookgrader": {
          "id": "647ec3f4dba8c268917ebba1b27287203c97a11f",
          "readonly": true
        }
      },
      "source": [
        "### Grading\n",
        "\n",
        "Each cell where there are tests is worth a certain number of points.  You get the points allocated to a cell only if you pass _all_ the tests in the cell.\n",
        "\n",
        "The tests in a cell include both the tests you can see, and other, similar, tests that are used for grading only.  Therefore, you cannot hard-code the solutions: you really have to solve the essence of the problem, to receive the points in a cell."
      ]
    },
    {
      "cell_type": "markdown",
      "metadata": {
        "deletable": false,
        "editable": false,
        "id": "c35da02e",
        "nbgrader": {
          "cell_type": "markdown",
          "checksum": "bb926ff65820746addbbaee858f2349b",
          "grade": false,
          "grade_id": "cell-9392185a50477f96",
          "locked": true,
          "schema_version": 3,
          "solution": false,
          "task": false
        },
        "notebookgrader": {
          "id": "67e91b20e0cee6b1d688f4dc50496a191d9d07e0",
          "readonly": true
        }
      },
      "source": [
        "\n",
        "### Code of Conduct\n",
        "\n",
        "* Work on the test yourself, alone.\n",
        "* You can search documentation on the web, on sites such as the Python documentation sites, Stackoverflow, and similar, and you can use the results.\n",
        "* You cannot share your work with others or solicit their help.\n"
      ]
    },
    {
      "cell_type": "markdown",
      "metadata": {
        "id": "QG6hWEyzk-VN",
        "notebookgrader": {
          "id": "d0285559254a2699f5803066aacf0e8ca331caa6",
          "readonly": true
        }
      },
      "source": [
        "###Submission of your work\n",
        "\n",
        "* First, click on \"Runtime > Restart and run all\", and check that you get no errors.  This enables you to catch any error you might have introduced, and not noticed, due to your running cells out of order.\n",
        "* Second, submit your work on the notebook grader website before the deadline specified on Canvas to avoid late penalties.\n",
        "\n",
        "You can submit multiple times; the last submission before the deadline is the one that counts."
      ]
    },
    {
      "cell_type": "markdown",
      "metadata": {
        "id": "IYpSO9qDEEU0",
        "notebookgrader": {
          "id": "d986e643a128552a7dc945150476e3a7c4cb1722",
          "readonly": true
        }
      },
      "source": [
        "#Exercises"
      ]
    },
    {
      "cell_type": "markdown",
      "metadata": {
        "id": "FXrSp6yof8UU",
        "notebookgrader": {
          "id": "7db0e12e2ce38027b3b0aedfe889cbde7c244649",
          "readonly": true
        }
      },
      "source": [
        "## Question 1: An Email Validator"
      ]
    },
    {
      "cell_type": "markdown",
      "metadata": {
        "id": "ogshXNihzgBe",
        "notebookgrader": {
          "id": "464c90e250176c17c1b4e7f1f0cf80d44b695def",
          "readonly": true
        }
      },
      "source": [
        "In this exercise, you need to implement a function called `is_valid` that takes a string and returns `True` if the string is a valid email address. Otherwise, it returns `False`.\n",
        "\n",
        "A valid email address should be composed of three main parts:\n",
        "\n",
        "* **Local** is the first part that typically identifies the specific user or mailbox. For example, in user@example.com, **user** is the local part. The local part can include letters, numbers, and special characters such as periods, hyphens, and underscores.\n",
        "* **Domain** is the second part and separated from the local part by an ampersat **@**. It specifies the domain that hosts the email server. For example, in user@example.com, **example** is the domain name which can include letters, numbers, and hyphens.\n",
        "* **Top-level domain (TLD)** is the last part and separated from the domain by a period. For example, **.com**, **.net**, or **.org**.\n",
        "\n",
        "In an email address like john.doe@company.com, john.doe is the local-part, and \"company.com\" is the domain-part.\n",
        "\n",
        "For simplicity, you can write a pattern that uses only letters, digits, and underscores for naming the local part and domains (do not worry about periods or hyphens that may be present in the real email addresses)."
      ]
    },
    {
      "cell_type": "code",
      "execution_count": null,
      "metadata": {
        "id": "D90lZm0KpIF8",
        "notebookgrader": {
          "id": "c5a170332820c8c1e42dfd3898aaff181377d3c0",
          "is_solution": false,
          "is_tests": false,
          "readonly": true
        }
      },
      "outputs": [],
      "source": [
        "import re"
      ]
    },
    {
      "cell_type": "code",
      "execution_count": null,
      "metadata": {
        "id": "qMTcyKxPonLX",
        "notebookgrader": {
          "id": "6ca38938cc18772acc71b912be7de3379d55e1c9",
          "is_solution": true,
          "is_tests": false,
          "readonly": false
        }
      },
      "outputs": [],
      "source": [
        "#@title Implementing an email validator\n",
        "\n",
        "def is_valid(email):\n",
        "    email=email.split(\"@\")\n",
        "    if (len(email))!=2:\n",
        "      return False\n",
        "    Local=re.compile(r'^[A-Za-z0-9.-_]\\w*$')\n",
        "    identifier=email[0]\n",
        "    match=Local.search(identifier)\n",
        "    if not match:\n",
        "      return False\n",
        "    Domain=re.compile(r'\\.org|\\.net|\\.com|\\.edu')\n",
        "    identifier1=email[1]\n",
        "    match=Domain.search(identifier1)\n",
        "    if not match:\n",
        "      return False\n",
        "\n",
        "\n",
        "    return True\n",
        "    ### YOUR SOLUTION HERE"
      ]
    },
    {
      "cell_type": "code",
      "execution_count": null,
      "metadata": {
        "id": "tFQF_aSAqutt",
        "notebookgrader": {
          "id": "7b9b16a904e30ac1ea755d2aaa9948984f87d654",
          "is_solution": false,
          "is_tests": true,
          "readonly": true,
          "test_points": 10
        },
        "colab": {
          "base_uri": "https://localhost:8080/"
        },
        "outputId": "4cd318ec-f6c6-4245-d885-00510c30b199"
      },
      "outputs": [
        {
          "output_type": "stream",
          "name": "stdout",
          "text": [
            "True\n",
            "True\n"
          ]
        }
      ],
      "source": [
        "# Tests 10 points.\n",
        "\n",
        "print(is_valid('hello@gmail.com'))\n",
        "assert is_valid('hello@gmail.com')\n",
        "\n",
        "print(is_valid('tom_121@cruz_2025.edu'))\n",
        "assert is_valid('tom_121@cruz_2025.edu')"
      ]
    },
    {
      "cell_type": "code",
      "execution_count": null,
      "metadata": {
        "id": "BXW8FsylrYy3",
        "notebookgrader": {
          "id": "d42f6b2bb3c94aceeb3e132658f2dfbfd5769b85",
          "is_solution": false,
          "is_tests": true,
          "readonly": true,
          "test_points": 10
        },
        "colab": {
          "base_uri": "https://localhost:8080/"
        },
        "outputId": "22b723b4-f305-46df-8f97-30fa8336ebb3"
      },
      "outputs": [
        {
          "output_type": "stream",
          "name": "stdout",
          "text": [
            "False\n",
            "False\n",
            "True\n"
          ]
        }
      ],
      "source": [
        "# Tests 10 points.\n",
        "\n",
        "print(is_valid('#ello@gmail.com'))\n",
        "assert not is_valid('#ello@gmail.com')\n",
        "\n",
        "print(is_valid('hello@@gmail.com'))\n",
        "assert not is_valid('hello@@gmail.com')\n",
        "\n",
        "print(is_valid('hello@gmail.com'))\n",
        "assert is_valid('hello@gmail.com')"
      ]
    },
    {
      "cell_type": "markdown",
      "metadata": {
        "id": "iUCpd2KJuY24",
        "notebookgrader": {
          "id": "f699b5876ee301193bd715e2ccee7b249b4eb279",
          "readonly": true
        }
      },
      "source": [
        "**Interesting Facts:**\n",
        "\n",
        "* The word ***ampersat*** refers to the **@** symbol, commonly used in email addresses and social media handles.\n",
        "* ***Ampersat*** is a conjunction of ***ampers*** and ***at***.\n",
        "* ***Ampers*** comes from the word ***ampersand*** that is a corruption of the phrase ***and per se and*** which means ***and by itself and*** and refers to the **&** symbol.\n",
        "* The **@** symbol has an interesting history. It was originally used in medieval manuscripts as a shorthand for the Latin word **ad**, meaning **at** or **toward**. It later found its way into commerce as a unit price measurement, such as **5 apples @ $1 each**.\n",
        "* Its modern use in email addresses was popularized by Ray Tomlinson in the early 1970s when he chose the **@** symbol to designate email addresses in the format **user@domain**."
      ]
    },
    {
      "cell_type": "markdown",
      "metadata": {
        "id": "PPSgbifb_8Sb",
        "notebookgrader": {
          "id": "27395fbe56f2dfd46b379dcfef5b226dbfe3736b",
          "readonly": true
        }
      },
      "source": [
        "Let's check for a missing period `.` and an ampersat `@`."
      ]
    },
    {
      "cell_type": "code",
      "execution_count": null,
      "metadata": {
        "id": "F-njaraGrsrX",
        "notebookgrader": {
          "id": "fe3494db3a91d6170a25d81b4403b3f0b1468df7",
          "is_solution": false,
          "is_tests": true,
          "readonly": true,
          "test_points": 10
        },
        "colab": {
          "base_uri": "https://localhost:8080/"
        },
        "outputId": "766bf2c2-8106-4ebe-cce0-48bed87cac73"
      },
      "outputs": [
        {
          "output_type": "stream",
          "name": "stdout",
          "text": [
            "False\n",
            "False\n",
            "True\n"
          ]
        }
      ],
      "source": [
        "# Tests 10 points.\n",
        "\n",
        "print(is_valid('hello@gmailcom'))\n",
        "assert not is_valid('hello@gmailcom')\n",
        "\n",
        "print(is_valid('hello_gmail.com'))\n",
        "assert not is_valid('hello_gmail.com')\n",
        "\n",
        "print(is_valid('hello_@gmail.com'))\n",
        "assert is_valid('hello_@gmail.com')"
      ]
    },
    {
      "cell_type": "markdown",
      "metadata": {
        "id": "_U7eGT6OE8Nq",
        "notebookgrader": {
          "id": "0a61f6589d78ad254159a328e128c2698344f7a7",
          "readonly": true
        }
      },
      "source": [
        "##Question 2. Function isfloat"
      ]
    },
    {
      "cell_type": "markdown",
      "metadata": {
        "id": "SeBE5OX7FDF9",
        "notebookgrader": {
          "id": "d47ed650cadb9ac894af29f1b1ac6b26d313cddf",
          "readonly": true
        }
      },
      "source": [
        "Often, we need to validate user input to check whether it can be converted into a float.\n",
        "\n",
        "Write a function called `isfloat` that determines if a string can be safely converted into a float. If the string can be converted into a float, the function should return `True`; otherwise, it should return `False`.\n",
        "\n",
        "Your `isfloat` function should be based on regular expressions."
      ]
    },
    {
      "cell_type": "code",
      "execution_count": null,
      "metadata": {
        "id": "r2MaDzbJIVtO",
        "notebookgrader": {
          "id": "823c8d751a6ffff8274b27e31fd88bf92ac7e73c",
          "is_solution": false,
          "is_tests": false,
          "readonly": true
        }
      },
      "outputs": [],
      "source": [
        "import re"
      ]
    },
    {
      "cell_type": "code",
      "execution_count": null,
      "metadata": {
        "id": "kJKNgUSzGCRL",
        "notebookgrader": {
          "id": "c83c20f5bfc40b1a88709cf0f39f3143acc9ddd6",
          "is_solution": true,
          "is_tests": false,
          "readonly": false
        }
      },
      "outputs": [],
      "source": [
        "#@title Implementing a function isfloat\n",
        "\n",
        "def isfloat(num):\n",
        "    pattern=re.compile(r'^-?[0-9]*\\.?[0-9]*?$')\n",
        "    identifier=num\n",
        "    match=pattern.search(identifier)\n",
        "    if not match:\n",
        "      return False\n",
        "    return True\n",
        "    ### YOUR SOLUTION HERE"
      ]
    },
    {
      "cell_type": "code",
      "execution_count": null,
      "metadata": {
        "id": "OsqdMb6tHOR0",
        "notebookgrader": {
          "id": "e9ade8df922e998cf170bb8b071743f322658962",
          "is_solution": false,
          "is_tests": true,
          "readonly": true,
          "test_points": 10
        },
        "colab": {
          "base_uri": "https://localhost:8080/"
        },
        "outputId": "a0d8d599-653d-4335-d3e2-945be3a7e057"
      },
      "outputs": [
        {
          "output_type": "stream",
          "name": "stdout",
          "text": [
            "True\n",
            "False\n",
            "True\n",
            "False\n"
          ]
        }
      ],
      "source": [
        "# Tests 10 points.\n",
        "\n",
        "print(isfloat('345'))\n",
        "assert isfloat('345')\n",
        "\n",
        "print(isfloat('$345'))\n",
        "assert not isfloat('$345')\n",
        "\n",
        "print(isfloat('345.'))\n",
        "assert isfloat('345.')\n",
        "\n",
        "print(isfloat('345.o'))  # o is not zero 0\n",
        "assert not isfloat('345.o')"
      ]
    },
    {
      "cell_type": "code",
      "execution_count": null,
      "metadata": {
        "id": "8tPZUPvPHQBB",
        "notebookgrader": {
          "id": "805794caba8396d791457ac041f7469888bb4357",
          "is_solution": false,
          "is_tests": true,
          "readonly": true,
          "test_points": 10
        },
        "colab": {
          "base_uri": "https://localhost:8080/"
        },
        "outputId": "8c609f9f-98f4-436b-f638-f4572d193a00"
      },
      "outputs": [
        {
          "output_type": "stream",
          "name": "stdout",
          "text": [
            "False\n",
            "True\n",
            "True\n",
            "False\n"
          ]
        }
      ],
      "source": [
        "# Tests 10 points.\n",
        "\n",
        "print(isfloat('123..'))\n",
        "assert not isfloat('123..')\n",
        "\n",
        "print(isfloat('123.456'))\n",
        "assert isfloat('123.456')\n",
        "\n",
        "print(isfloat('-123.456'))\n",
        "assert isfloat('-123.456')\n",
        "\n",
        "print(isfloat('123.-456'))\n",
        "assert not isfloat('123.-456')"
      ]
    },
    {
      "cell_type": "code",
      "execution_count": null,
      "metadata": {
        "id": "AR8N1fiEHRVZ",
        "notebookgrader": {
          "id": "6523cea72c860d272c06a0a3539f56799049dcfc",
          "is_solution": false,
          "is_tests": true,
          "readonly": true,
          "test_points": 10
        },
        "colab": {
          "base_uri": "https://localhost:8080/"
        },
        "outputId": "453e6906-a4db-40c2-a359-5c5b906d7137"
      },
      "outputs": [
        {
          "output_type": "stream",
          "name": "stdout",
          "text": [
            "True\n",
            "False\n",
            "False\n",
            "False\n"
          ]
        }
      ],
      "source": [
        "# Tests 10 points.\n",
        "\n",
        "print(isfloat('.456'))\n",
        "assert isfloat('.456')\n",
        "\n",
        "print(isfloat('123.123.'))\n",
        "assert not isfloat('123.123.')\n",
        "\n",
        "print(isfloat('--123'))\n",
        "assert not isfloat('--123')\n",
        "\n",
        "print(isfloat('-123-123'))\n",
        "assert not isfloat('-123-123')"
      ]
    },
    {
      "cell_type": "markdown",
      "metadata": {
        "id": "UtSHfa_vnvNn",
        "notebookgrader": {
          "id": "d1efe20e72b0be2307a05f4600751e347abbf209",
          "readonly": true
        }
      },
      "source": [
        "## Question 3: A Caesar's Cipher"
      ]
    },
    {
      "cell_type": "markdown",
      "metadata": {
        "id": "IeadlKJe7n7J",
        "notebookgrader": {
          "id": "b600833a9c4af9074b9c73f02fbcc724416fa3fb",
          "readonly": true
        }
      },
      "source": [
        "In this exercise, you can implement a simple encoder-decoder called a Caesar cipher. A Caesar cipher is based on shifting a code for each letter by some number.\n",
        "\n",
        "For example, let's choose a shift that equals to 3 and a letter from the English alphabet that is A, then the encoded symbol is a letter that follows A and is located at the position that is shifted from A by 3, so it is D. D is the fourth letter in the alphabet, whereas A is the first letter, and the distance between them is 3.\n",
        "\n",
        "In this encoding we use the right shift, so A becomes D, B becomes E, C becomes F, and so on. It is also easy to decode the cipher because we can use the left shift to reverse the encoding, so F becomes C, E becomes B, and D becomes A.\n",
        "\n",
        "The only problem is how to encode the last letters in the alphabet because they are not followed by any other letters. This problem can be easily solved if we assume that the letters in the alphabet are arranged in a circle, so Z is followed by A. Then using the right shift 3, letter Z becomes C, letter Y becomes B, and letter X becomes A.\n",
        "\n",
        "To achieve this functionality, we can use a circular array. A circular array is a sequence of items (that can be implemented as an array, list, or string) where items are accessed by an index that is calculated using the **modulo operation**.\n",
        "\n",
        "In the following code, you need to complete the `encode` function that can be used as a Caesar cipher encoder and decoder (for encoding, we can use positive numbers for the right shift, and for decoding, we can use negative numbers for the left shift)."
      ]
    },
    {
      "cell_type": "code",
      "execution_count": null,
      "metadata": {
        "id": "ImAc4W3LMYp0",
        "notebookgrader": {
          "id": "ef3eebaba03cdb2f113733fcea6ae813a528dc67",
          "is_solution": true,
          "is_tests": false,
          "readonly": false
        }
      },
      "outputs": [],
      "source": [
        "def encode(text, shift):\n",
        "    alphabet = 'ABCDEFGHIJKLMNOPQRSTUVWXYZ'\n",
        "    new_text = '' # a placeholder for the new text\n",
        "    for char in text:\n",
        "        if char in alphabet:\n",
        "            index = alphabet.index(char)\n",
        "            newindex = (index + shift) % len(alphabet)\n",
        "            newletter = alphabet[newindex]\n",
        "        else:\n",
        "            newletter = char\n",
        "        new_text=new_text+newletter\n",
        "        ### YOUR SOLUTION HERE\n",
        "    return new_text\n"
      ]
    },
    {
      "cell_type": "code",
      "execution_count": null,
      "metadata": {
        "id": "aRnxuy6d_Syh",
        "notebookgrader": {
          "id": "0381a5946c159875c293beaae3f10ac0efc22d51",
          "is_solution": false,
          "is_tests": true,
          "readonly": true,
          "test_points": 10
        },
        "colab": {
          "base_uri": "https://localhost:8080/"
        },
        "outputId": "adf87267-faef-4477-e69f-4e7b5ffdf2a2"
      },
      "outputs": [
        {
          "output_type": "stream",
          "name": "stdout",
          "text": [
            "KHOOR\n",
            "HELLO\n"
          ]
        }
      ],
      "source": [
        "# Tests 10 points.\n",
        "\n",
        "text = 'HELLO'\n",
        "shift = 3\n",
        "print(encode(text, shift))\n",
        "assert encode(text, shift) == 'KHOOR'\n",
        "\n",
        "text = 'KHOOR'\n",
        "shift = -3\n",
        "print(encode(text, shift))\n",
        "assert encode(text, shift) == 'HELLO'"
      ]
    },
    {
      "cell_type": "code",
      "execution_count": null,
      "metadata": {
        "id": "jxXKm43wDW4v",
        "notebookgrader": {
          "id": "5b5ee7a7fdc4ba7964a586285fa88366248ff989",
          "is_solution": false,
          "is_tests": true,
          "readonly": true,
          "test_points": 10
        },
        "colab": {
          "base_uri": "https://localhost:8080/"
        },
        "outputId": "ecae0c66-90cd-43fc-faba-59b2eb531ab1"
      },
      "outputs": [
        {
          "output_type": "stream",
          "name": "stdout",
          "text": [
            "KHOOR, KRZ DUH BRX?\n",
            "HELLO, HOW ARE YOU?\n"
          ]
        }
      ],
      "source": [
        "# Tests 10 points.\n",
        "\n",
        "text = 'HELLO, HOW ARE YOU?'\n",
        "shift = 3\n",
        "print(encode(text, shift))\n",
        "assert encode(text, shift) == 'KHOOR, KRZ DUH BRX?'\n",
        "\n",
        "text = 'KHOOR, KRZ DUH BRX?'\n",
        "shift = -3\n",
        "print(encode(text, shift))\n",
        "assert encode(text, shift) == 'HELLO, HOW ARE YOU?'"
      ]
    },
    {
      "cell_type": "markdown",
      "metadata": {
        "id": "8uW6Jfq4C0Ey",
        "notebookgrader": {
          "id": "175c437db3ddb0b41e5b946365b4b0ef1cc9e4f5",
          "readonly": true
        }
      },
      "source": [
        "Now, you can write your own improved function `encode2` that can use strings with upper and lower case letters."
      ]
    },
    {
      "cell_type": "code",
      "execution_count": null,
      "metadata": {
        "id": "ZDfUAC8wAv54",
        "notebookgrader": {
          "id": "65b22a4b92dee71320bd7c7514c619ba5152f676",
          "is_solution": true,
          "is_tests": false,
          "readonly": false
        }
      },
      "outputs": [],
      "source": [
        "def encode2(text, shift):\n",
        "    alphabet = 'ABCDEFGHIJKLMNOPQRSTUVWXYZ'\n",
        "    Low_case = 'abcdefghijklmnopqrstuvwxyz'\n",
        "    new_text = '' # a placeholder for the new text\n",
        "    for char in text:\n",
        "        if char in alphabet:\n",
        "            index = alphabet.index(char)\n",
        "            newindex = (index + shift) % len(alphabet)\n",
        "            newletter = alphabet[newindex]\n",
        "        elif char in Low_case:\n",
        "            index = Low_case.index(char)\n",
        "            newindex = (index + shift) % len(Low_case)\n",
        "            newletter = Low_case[newindex]\n",
        "        else:\n",
        "            newletter = char\n",
        "        new_text=new_text+newletter\n",
        "        ### YOUR SOLUTION HERE\n",
        "    return new_text\n"
      ]
    },
    {
      "cell_type": "code",
      "execution_count": null,
      "metadata": {
        "id": "x9RTrxtUBTja",
        "notebookgrader": {
          "id": "4b051f8210585c17745262323707edb182e125ac",
          "is_solution": false,
          "is_tests": true,
          "readonly": true,
          "test_points": 10
        },
        "colab": {
          "base_uri": "https://localhost:8080/"
        },
        "outputId": "7253a43f-b37d-40f2-caec-06945602d766"
      },
      "outputs": [
        {
          "output_type": "stream",
          "name": "stdout",
          "text": [
            "Khoor\n",
            "Hello\n"
          ]
        }
      ],
      "source": [
        "# Tests 10 points.\n",
        "\n",
        "text = 'Hello'\n",
        "shift = 3\n",
        "print(encode2(text, shift))\n",
        "assert encode2(text, shift) == 'Khoor'\n",
        "\n",
        "text = 'Khoor'\n",
        "shift = -3\n",
        "print(encode2(text, shift))\n",
        "assert encode2(text, shift) == 'Hello'"
      ]
    },
    {
      "cell_type": "code",
      "execution_count": null,
      "metadata": {
        "id": "ddFf98s3Dt3I",
        "notebookgrader": {
          "id": "08ec2bfeabf7603bab76a6cfce6bc65809f66906",
          "is_solution": false,
          "is_tests": true,
          "readonly": true,
          "test_points": 10
        },
        "colab": {
          "base_uri": "https://localhost:8080/"
        },
        "outputId": "4ead2866-ac8d-4113-ee0c-75c9a0508f83"
      },
      "outputs": [
        {
          "output_type": "stream",
          "name": "stdout",
          "text": [
            "Khoor, Krz Duh Brx?\n",
            "Hello, How Are You?\n"
          ]
        }
      ],
      "source": [
        "# Tests 10 points.\n",
        "\n",
        "text = 'Hello, How Are You?'\n",
        "shift = 3\n",
        "print(encode2(text, shift))\n",
        "assert encode2(text, shift) == 'Khoor, Krz Duh Brx?'\n",
        "\n",
        "text = 'Khoor, Krz Duh Brx?'\n",
        "shift = -3\n",
        "print(encode2(text, shift))\n",
        "assert encode2(text, shift) == 'Hello, How Are You?'"
      ]
    },
    {
      "cell_type": "markdown",
      "metadata": {
        "id": "rrI61nZqnvgo",
        "notebookgrader": {
          "id": "664b32cf18a7423a6249737e4f241862c021fb71",
          "readonly": true
        }
      },
      "source": [
        "## Extra Credit Question 4: A Hangman Game"
      ]
    },
    {
      "cell_type": "markdown",
      "metadata": {
        "id": "pnhURZXqTQzx",
        "notebookgrader": {
          "id": "b1fe6c39a6d4a0b1fcd2e40bf6ec0d5a0561ea8c",
          "readonly": true
        }
      },
      "source": [
        "Hangman is a classic word-guessing game that is a mix of logic, deduction, and vocabulary. It's great for parties, classrooms, or other occasions.\n",
        "\n",
        "The goal of the game is to guess a hidden word, letter by letter. One player chooses a word and represents it as a series of blank spaces (_ _ _). The other player guesses letters to try to fill in the blanks.\n",
        "\n",
        "For every incorrect guess, a part of a stick figure is drawn. This stick figure is hung on a gallows, piece by piece, as guesses run out — hence the name ***Hangman***.\n",
        "\n",
        "If the word is guessed correctly before the stick figure is fully drawn, the guesser wins! If not, the figure is completed, and the guesser loses the game.\n",
        "\n",
        "In this exercise, you can complete the hangman game written below. At the beginning, we select a secret word and let the program to run the hangman game. The program repetitively asks the user for an input letter and produces output, the secret word with correctly guessed letters.\n",
        "\n",
        "The program does not draw a hangman but keeps track of left lives.\n",
        "\n",
        "Your task is to complete two functions that updates the hidden word and outputs the hidden word with left lives and guessed letters. In the code below, the following variables are used:\n",
        "\n",
        "* `word` refers to the secret word (a string made of letters)\n",
        "* `hidden` refers to the hidden word used to display the secret word (it is a list made of double underscores and letters)\n",
        "* `letters` refers to previously guessed letters (a list)\n",
        "* `lives` refers to the left lives (an int)\n",
        "\n",
        "\n",
        "The function `output_hidden` returns a string in the following format:\n",
        "```\n",
        "Letters chosen: A\n",
        "A __ __ __ __ lives: 5\n",
        "```\n",
        "\n",
        "where the first line corresponds to letters already guessed, the second line corresponds to the hidden word with hidden letters shown as double underscores and correctly guessed letters. It also includes the left lives. In the example above, the user correctly guessed a letter `A`, the first letter in the hidden word is `A`, and the number of left lives is 5.\n",
        "\n",
        "\n",
        "The function `update_hidden` does not return anything but modifies the list `hidden` -- it substitutes double underscores to the correstly guessed letter. For example, if the secret word is `APPLE`, and the user chooses a letter `A`, then the list `hidden` should be changed: the first item `__` (a double underscore) is changed to an `A`."
      ]
    },
    {
      "cell_type": "code",
      "execution_count": null,
      "metadata": {
        "id": "bH8aEA13FeVg",
        "notebookgrader": {
          "id": "674f0ad9a79912d8e988d20a4c693cb2a3204dd9",
          "is_solution": true,
          "is_tests": false,
          "readonly": false
        }
      },
      "outputs": [],
      "source": [
        "\n",
        "def update_hidden(word, hidden, letter):\n",
        "    pattern=re.compile(letter)\n",
        "    identifier=word\n",
        "    match=pattern.search(identifier)\n",
        "    if match:\n",
        "      position=word.index(letter)\n",
        "      hidden[position]=letter\n",
        "    return hidden\n",
        "\n",
        "def output_hidden(hidden, letters, lives):\n",
        "    letters = ' '.join(letters)\n",
        "    hidden = ' '.join(hidden)\n",
        "    return(f\"\\nLetters chosen: {letters}\\n{hidden} lives: {lives}\")\n",
        "\n",
        "\n",
        "\n",
        "\n",
        "def hangman(word, lives):\n",
        "    word = word.upper()\n",
        "    letters = []\n",
        "    hidden = [\"__\"] * len(word)\n",
        "    for i in range(len(word)) :\n",
        "        if word[i] == '-':\n",
        "            hidden[i] = '-'\n",
        "        elif word[i] == '\\'':\n",
        "            hidden[i] = '\\''\n",
        "\n",
        "    while True:\n",
        "        # format and print the game interface:\n",
        "        print (output_hidden(hidden, letters, lives))\n",
        "\n",
        "        # ask user to guess a letter\n",
        "        while True:\n",
        "            try :\n",
        "                letter = input(\"Please choose a new letter > \").upper()\n",
        "                if letter in letters:\n",
        "                    print(\"You have already chosen this letter.\")\n",
        "                elif letter.isalpha() and len(letter) == 1:\n",
        "                    break\n",
        "            except Exception:\n",
        "                continue\n",
        "\n",
        "        # update the list of chosen letters\n",
        "        letters.append(letter)\n",
        "\n",
        "        # if the letter is correct update the hidden word,\n",
        "        # else update the number of lives\n",
        "        if letter in word :\n",
        "            print (\"You guessed right!\")\n",
        "            update_hidden(word, hidden, letter)\n",
        "        else :\n",
        "            print (\"You guessed wrong, you lost one life.\")\n",
        "            lives -= 1\n",
        "\n",
        "        # check if the user guesses the word correctly or lost all lives,\n",
        "        # if yes finish the game\n",
        "        if \"__\" not in hidden:\n",
        "            # format and print the game interface:\n",
        "            print(output_hidden(hidden, letters, lives))\n",
        "            print (\"Congratulations!!! You won! The word is \" + word + \"!\")\n",
        "            break\n",
        "        elif lives < 1:\n",
        "            # format and print the game interface:\n",
        "            print(output_hidden(hidden, letters, lives))\n",
        "            print (\"You lost! The word is \" + word + \"!\")\n",
        "            break"
      ]
    },
    {
      "cell_type": "code",
      "execution_count": null,
      "metadata": {
        "id": "Wt6rYJepfxZU",
        "notebookgrader": {
          "id": "f149aac58263094323935d65d70a3256eb39160b",
          "is_solution": false,
          "is_tests": true,
          "readonly": true,
          "test_points": 10
        },
        "colab": {
          "base_uri": "https://localhost:8080/"
        },
        "outputId": "98c90800-b95b-4517-aceb-1a6f8721eb4d"
      },
      "outputs": [
        {
          "output_type": "stream",
          "name": "stdout",
          "text": [
            "\n",
            "Letters chosen: A\n",
            "__ __ __ __ __ lives: 5\n",
            "\n",
            "Letters chosen: A\n",
            "__ __ __ __ __ lives: 5\n",
            "42\n",
            "42\n"
          ]
        }
      ],
      "source": [
        "# Tests 10 points.\n",
        "hidden = ['__'] * 5\n",
        "letters = ['A']\n",
        "lives = 5\n",
        "\n",
        "s = output_hidden(hidden, letters, lives)\n",
        "\n",
        "print(s)\n",
        "print('\\nLetters chosen: A\\n__ __ __ __ __ lives: 5')\n",
        "\n",
        "print(len(s))\n",
        "print(len('\\nLetters chosen: A\\n__ __ __ __ __ lives: 5'))\n",
        "\n",
        "assert s == '\\nLetters chosen: A\\n__ __ __ __ __ lives: 5'"
      ]
    },
    {
      "cell_type": "code",
      "execution_count": null,
      "metadata": {
        "id": "7UDe3yEMkkAj",
        "notebookgrader": {
          "id": "76d8e0a92002b45a5231df838a570b97447c5735",
          "is_solution": false,
          "is_tests": true,
          "readonly": true,
          "test_points": 10
        },
        "colab": {
          "base_uri": "https://localhost:8080/"
        },
        "outputId": "2996a1b3-b90a-4579-97d8-e2f721615bdb"
      },
      "outputs": [
        {
          "output_type": "stream",
          "name": "stdout",
          "text": [
            "['A', '__', '__', '__', '__']\n"
          ]
        }
      ],
      "source": [
        "# Tests 10 points.\n",
        "word = 'APPLE'\n",
        "hidden = ['__'] * 5\n",
        "letter = 'A'\n",
        "\n",
        "update_hidden(word, hidden, letter)\n",
        "print(hidden)\n",
        "assert hidden == ['A', '__', '__', '__', '__']"
      ]
    },
    {
      "cell_type": "markdown",
      "metadata": {
        "id": "XaUow1Fgnamu",
        "notebookgrader": {
          "id": "905b1cdaf089b370840deef1128f6a9c676e4dc3",
          "readonly": true
        }
      },
      "source": [
        "And now, you are ready to play a hangman game. Feel free to modify it how you like it for your future projects."
      ]
    },
    {
      "cell_type": "code",
      "execution_count": null,
      "metadata": {
        "id": "T1o7CeBMHPZD",
        "notebookgrader": {
          "id": "271fd608ef4e635e94d39437614fa27e62f801aa",
          "is_solution": false,
          "is_tests": false,
          "readonly": true
        }
      },
      "outputs": [],
      "source": [
        "# You need to uncomment the statement below to run the game\n",
        "# hangman('apple', 5)"
      ]
    }
  ],
  "metadata": {
    "colab": {
      "provenance": [],
      "toc_visible": true,
      "include_colab_link": true
    },
    "kernelspec": {
      "display_name": "Python 3",
      "name": "python3"
    },
    "language_info": {
      "name": "python"
    },
    "notebookgrader": {
      "total_points": 120
    }
  },
  "nbformat": 4,
  "nbformat_minor": 0
}